{
  "cells": [
    {
      "cell_type": "markdown",
      "metadata": {
        "id": "bXgCKcj7LWwr"
      },
      "source": [
        "# Computer simulation of transport networks.\n",
        "## Auteur: Pinglei He"
      ]
    },
    {
      "cell_type": "markdown",
      "metadata": {
        "id": "PQCSFV2FuI3w"
      },
      "source": [
        "## O Introduction\n",
        "\n",
        "### O.0 Motivation\n",
        "**English**:\n",
        "This Jupyter notebook is dedicated to the TIPE project for the French National Entrance Exam of engineering schools. The study focuses on the optimization of a transport network, according to the models and the optimization objectives stated below.\n",
        "\n",
        "Simply put, we study the optimization of the performance of a transport network modeled as a non-oriented graph, with its nodes representing cites and the edges representing whether or not there is an direct route between two cities.\n",
        "\n",
        "### O.1 Notations\n",
        "$V$ : The number of cities\n",
        "\n",
        "$P_v$: The population of city $v \\in ⟦1 ... V⟧$"
      ]
    },
    {
      "cell_type": "markdown",
      "metadata": {
        "id": "4kLE-OQiLYvm"
      },
      "source": [
        "## I. The Model\n",
        "### I.1 City distributions\n",
        "According to the (empirical) [Zipf's Law](https://en.wikipedia.org/wiki/Zipf's_law), the populations count of the cities in a country follow the Zipf's distribution. That is to say, if we denote $V$ the total number of cities in a country, and $P_1 ... P_V$ the populations of single cities in the descendent order, we have: \n",
        "$$ \\mathbb{E}(\\frac{P_v}{P_1}) = \\frac{1}{v} $$\n",
        "\n",
        "To avoid unneccesary complexities in modeling the cities, we have chosen to omit the edge-case country shapes (such as the oblong Chile), nor do we consider differenc topologically unrelated/unconnected components of a country(such as Mainland US vs. Alaska) and we set the map to be a square-shape, with the position of the cities to distribute uniformely across the map.\n",
        "\n"
      ]
    },
    {
      "cell_type": "markdown",
      "metadata": {
        "id": "ofShd3LsLgyH"
      },
      "source": [
        "## Importing modules"
      ]
    },
    {
      "cell_type": "code",
      "execution_count": 1,
      "metadata": {
        "id": "TVh1JHUYLdlG"
      },
      "outputs": [],
      "source": [
        "import numpy as np\n",
        "import matplotlib.pyplot as plt\n",
        "import matplotlib.lines as lines\n",
        "import random as rd\n",
        "import scipy\n",
        "import scipy.sparse"
      ]
    },
    {
      "cell_type": "markdown",
      "metadata": {
        "id": "UP-rQb_DKeQU"
      },
      "source": [
        "The function below produces a 3 $\\times$ V matrix, with each column vector representing a city in the form of $[population, x position, y position]$.\n",
        "$$\\begin{pmatrix}\n",
        "pop_1 & ... & pop_v\\\\\n",
        "x_1 & ... & x_v\\\\\n",
        "y_1 & ... & y_v\n",
        "\\end{pmatrix}$$"
      ]
    },
    {
      "cell_type": "code",
      "execution_count": 3,
      "metadata": {
        "id": "6VUAjLfELtQV"
      },
      "outputs": [],
      "source": [
        "def generate_cities(tot_population, num_city, map_width):\n",
        "  \"\"\"Returns a (3, num_city) array representing the cities.\n",
        "  Each column contains [city_population, x-position, y_position]\n",
        "  \"\"\"\n",
        "  harmonic_arr = np.array([1/v for v in range(1, num_city + 1)])\n",
        "  harmonic_arr_normalized = harmonic_arr / harmonic_arr.sum()\n",
        "  population_arr = (tot_population * harmonic_arr_normalized).reshape((1, num_city))\n",
        "  position_arr = np.random.rand(2, num_city) * map_width\n",
        "  return np.concatenate((population_arr, position_arr), axis=0)"
      ]
    },
    {
      "cell_type": "markdown",
      "metadata": {
        "id": "Hn6JhAD94r6L"
      },
      "source": [
        "## I.2 Transport net representation\n",
        "In order to represent the edges of the graph, we use the dense representation with a boolean matrix. For the edge matrix M, M[i, j] is equal to true if and only if there is a road directly linking i with j. "
      ]
    },
    {
      "cell_type": "code",
      "execution_count": 4,
      "metadata": {
        "id": "kHhPP-wX4Ew4"
      },
      "outputs": [],
      "source": [
        "def initialize_roads(num_city, prop=0):\n",
        "  \"\"\"Returns a boolean array of shape (num_city, num_city) filled with False.\"\"\"\n",
        "  # randomly link cities with a probability of prop\n",
        "  if prop:\n",
        "    res = np.ramdom.rand(num_city, num_city) < prop\n",
        "    for i in range(num_city):\n",
        "      res[i, i] = True\n",
        "      for j in range(i):\n",
        "        res[i, j] = res[j, i]\n",
        "    return res\n",
        "  # if prop == 0\n",
        "  res = np.zeros((num_city, num_city), dtype=bool)\n",
        "  for i in range(num_city):\n",
        "    res[i, i] = True\n",
        "  return res"
      ]
    },
    {
      "cell_type": "code",
      "execution_count": 5,
      "metadata": {
        "id": "6oPoA0dbKXF4"
      },
      "outputs": [],
      "source": [
        "def plot_map(city_arr, road_matrix=None, map_width=None):\n",
        "  \"\"\"Plots the map of the region\"\"\"\n",
        "  V = city_arr.shape[1]\n",
        "\n",
        "  # plots the cities\n",
        "  plt.scatter(city_arr[1, :], \n",
        "              city_arr[2, :], \n",
        "              s=city_arr[0, :], \n",
        "              c=np.random.rand(V,3)*0.7 + 0.3)\n",
        "  \n",
        "  # plots roads, if any\n",
        "  if road_matrix is not None:\n",
        "    connected_pairs = [(i, j) for i in range(V) for j in range(i) if road_matrix[i, j]]\n",
        "    for i, j in connected_pairs:\n",
        "      plt.plot([city_arr[1, i], city_arr[1, j]], \n",
        "              [city_arr[2, i], city_arr[2, j]],\n",
        "              \"g\", linestyle=\"-\")\n",
        "    \n",
        "  # add padding to the plot\n",
        "  if map_width is not None:\n",
        "    padding = map_width/25\n",
        "    plt.xlim(0 - padding, map_width + padding)\n",
        "    plt.ylim(0 - padding, map_width + padding)\n",
        "\n",
        "  # set x and y axis to be equal shape\n",
        "  plt.gca().set_aspect('equal', adjustable='box')\n",
        "\n",
        "  plt.show()"
      ]
    },
    {
      "cell_type": "markdown",
      "metadata": {
        "id": "WzNQzazqOhUY"
      },
      "source": [
        "Let's visualize a randomly generated map:"
      ]
    },
    {
      "cell_type": "code",
      "execution_count": 6,
      "metadata": {
        "colab": {
          "base_uri": "https://localhost:8080/",
          "height": 265
        },
        "id": "l6spVvuPLuen",
        "outputId": "9092f13f-44e4-4016-c5f0-99c85b31b454"
      },
      "outputs": [
        {
          "data": {
            "image/png": "[encoded data removed]",
            "text/plain": [
              "<Figure size 432x288 with 1 Axes>"
            ]
          },
          "metadata": {
            "needs_background": "light"
          },
          "output_type": "display_data"
        }
      ],
      "source": [
        "# seeds numpy.random for consistency\n",
        "np.random.seed(60)\n",
        "\n",
        "# params\n",
        "tot_population = 2000\n",
        "num_city = 20\n",
        "map_width = 200\n",
        "\n",
        "# generate a random city\n",
        "city_arr = generate_cities(tot_population, num_city, map_width)\n",
        "\n",
        "plot_map(city_arr)"
      ]
    },
    {
      "cell_type": "markdown",
      "metadata": {},
      "source": [
        "If we compare the map of France to a randomly generated map using the above-mentioned method, we can see that our model produces maps that are quite similar to actual maps:\n",
        "\n",
        "#### The population distribution of France\n",
        "<img src=\"./images/france_city_distribution.png\" alt=\"french_city_distribution\" width=\"60% vw\">\n",
        "\n",
        "#### A randomly generated population distribution\n",
        "<img src=\"./images/zipf_generated_distribution.png\" alt=\"simulated_distribution\" width=\"40% vw\">"
      ]
    },
    {
      "cell_type": "markdown",
      "metadata": {
        "id": "WwygCI8iO-nf"
      },
      "source": [
        "## II Optimization objectives\n",
        "Before carrying out optimizations, we shall defined the optimization objectives. \n",
        "\n",
        "We assume that the probability that one person leaves his city is independent with respect to the city. We thus natually have that, the outgoing flow of population of a given city is proportional to the size of the city:\n",
        "$$flow_{out}(v) \\propto pop_v$$\n",
        "\n",
        "And when it comes to ingoing population, the more population a city has, the more businesses it has, and the more attractive it is. We may assume that the ingoing population flow is somewhat proportional to its total population. :\n",
        "$$ flow_{in}(v) \\propto pop_v$$\n",
        "\n",
        "If we ignoge the change in total population of the country, the above two proportionality constants must be equal.\n",
        "$$ flow_{in}(v) = flow_{out}(v)$$\n",
        "\n",
        "In this model, we assume that the relative geometrical distance between two cities does not affect the flow of population between the twto cities:\n",
        "\n",
        "$$ flow(i, j) \\propto pop_{i} \\times pop_{j} $$\n",
        "\n",
        "Since we're modeling the network as a weighted graph, let's define the weights of the edges:\n",
        "\n",
        "if $M[i,j]$ :   $w(i,j) = d(i, j)$\n",
        "\n",
        "if $not M[i,j]$ : $w(i,j) = \\sigma \\times d(i, j)$\n",
        "\n",
        "The weight of an edge between two nodes (i,j) is defined as the cost for one unit of population to go from city i to city j (and vice versa). If there is a road between the two, we set it to be the geometric distance between the two cities. If there isn't one, we penalize the travel cost by multiply the distance with a smoothing constant $\\sigma >> 1$to avoid infinities (which would be problematic for optimizations). Let's say that between two cities, there is no direct road. We suppose that traveling between the two cities would be sigma times more difficult than if there was a road (instead of considering that such a scenario is impossible).\n",
        "\n",
        "The following equations should be pretty natual and straight-forward:\n",
        "\n",
        "The weight of a path:\n",
        "$$ w(v_1, v_2 ... v_p) = \\sum_{k=1}^{p-1}w(v_k, v_k+1) $$\n",
        "\n",
        "The distance by road (or graph distance) between two cities:\n",
        "$$ \\delta(i,j) = min_{\\text{path between i and j}}(w(path))$$\n",
        "\n",
        "The optimization objective to minimize is the total cost of transportation for the whole region/country:\n",
        "$$ cost(M) = \\sum_{1 < i, j < V} \\delta(i,j) \\times flow(i, j)$$"
      ]
    },
    {
      "cell_type": "markdown",
      "metadata": {
        "id": "xSEZrI5nL7_x"
      },
      "source": [
        "### Graph distance calculation\n",
        "In order to calculate the $\\delta(i,j)$s, we use the Floyd-Warshall algorithm. Since one floyd-warshall takes $O(n^3)$ to run, in order to take advantage of the multiprocessing power of the computer and the speed of a lower-level implementation, we will use the scipy module to do the Floyd-Warshall calculation."
      ]
    },
    {
      "cell_type": "code",
      "execution_count": 7,
      "metadata": {
        "id": "hMTeIVZ2O-NW"
      },
      "outputs": [],
      "source": [
        "\n",
        "def distance_matrix(city_arr):\n",
        "  \"\"\"Returns a matrix representing the geometric distances between cities\"\"\"\n",
        "  V = city_arr.shape[1]\n",
        "  res = np.zeros((V, V))\n",
        "\n",
        "  # compute the distance between \n",
        "  def get_distance(i, j):\n",
        "    dx = city_arr[1, i] - city_arr[1, j]\n",
        "    dy = city_arr[2, i] - city_arr[2, j]\n",
        "    return np.sqrt(dx * dx + dy * dy)\n",
        "\n",
        "  for i in range(V):\n",
        "    res[i, i] = 0\n",
        "    for j in range(i):\n",
        "      d_ij = get_distance(i, j)\n",
        "      res[i, j] = d_ij\n",
        "      res[j, i] = d_ij\n",
        "  return res\n",
        "\n",
        "def floyd_warshall(city_arr, road_matrix, sigma=10):\n",
        "  \"\"\"Returns a matrix distances the same dimensions as the road_matrix, where\n",
        "  distances[i,j] = the cost of the shortest path between the city i and city j\"\"\"\n",
        "  V = city_arr.shape[1]\n",
        "  geo_distance = distance_matrix(city_arr)\n",
        "  M0 = geo_distance * sigma # matrix of infinities\n",
        "  M0[road_matrix] = geo_distance[road_matrix]\n",
        "  return scipy.sparse.csgraph.floyd_warshall(M0, directed=False)"
      ]
    },
    {
      "cell_type": "markdown",
      "metadata": {
        "id": "4TEIi0FxXj72"
      },
      "source": [
        "Now let's defined a cost function according to equations above. This function takes in input the delta_map calculated by the floyd_warshall function, and outputs the cost of the transport network. Our objective in the sections below would be to lower the cost function."
      ]
    },
    {
      "cell_type": "code",
      "execution_count": 8,
      "metadata": {
        "id": "KPp9UNbsdp83"
      },
      "outputs": [],
      "source": [
        "def get_pop_flow(city_arr):\n",
        "  \"\"\"Returns a matrix pop_flow where pop_flow[i, j] is the product of \n",
        "  populations of cities i and j\"\"\"\n",
        "  population_arr = city_arr[[0], :]\n",
        "  print(population_arr.shape)\n",
        "  return population_arr * population_arr.T"
      ]
    },
    {
      "cell_type": "code",
      "execution_count": 10,
      "metadata": {
        "id": "N4biFkz5TA8L"
      },
      "outputs": [],
      "source": [
        "def cost(city_arr, delta_map, pop_flow=None):\n",
        "  \"\"\"Returns the total cost of transportation of the network\"\"\"\n",
        "  if pop_flow is None:\n",
        "    pop_flow = get_pop_flow(city_arr)\n",
        "  return (pop_flow * delta_map).sum() / 2"
      ]
    },
    {
      "cell_type": "markdown",
      "metadata": {},
      "source": [
        "### II.3 Restructuring\n",
        "The following code block simply encapsulates the code above into a TransportNetwork class, which includes information about the the network, including the positions and the populations of the cities, the map width, and the connections between them."
      ]
    },
    {
      "cell_type": "code",
      "execution_count": 39,
      "metadata": {},
      "outputs": [],
      "source": [
        "class TransportNetwork():\n",
        "    \n",
        "    def __init__(self, tot_population, num_city, map_width=100, cities=None):\n",
        "        self.tot_population = tot_population\n",
        "        self.num_city = num_city\n",
        "        self.map_width = map_width\n",
        "        self.cities =  self.generate_cities() if cities is None else cities\n",
        "        self.pop_flow = self.get_pop_flow()\n",
        "        self.roads = self.initialize_roads()\n",
        "        self.distance_matrix = self.get_distance_matrix()\n",
        "        self.shortest_path_distances = self.get_shortest_path_distances()\n",
        "\n",
        "    def generate_copy(self):\n",
        "        \"\"\"Generates a copy of the transport network, only with empty roads.\"\"\"\n",
        "        return TransportNetwork(tot_population=self.tot_population, \n",
        "                                num_city=self.num_city,\n",
        "                                map_width=self.map_width,\n",
        "                                cities=self.cities)\n",
        "        \n",
        "    def generate_cities(self):\n",
        "        \"\"\"Randomly generates information about the coordinates and the populations of thecities\"\"\"\n",
        "        harmonic_arr = np.array([1/v for v in range(1, self.num_city + 1)])\n",
        "        harmonic_arr_normalized = harmonic_arr / harmonic_arr.sum()\n",
        "        population_arr = (self.tot_population * harmonic_arr_normalized).reshape((1, self.num_city))\n",
        "        position_arr = np.random.rand(2, self.num_city) * self.map_width\n",
        "        return np.concatenate((population_arr, position_arr), axis=0)\n",
        "\n",
        "    def initialize_roads(self):\n",
        "        \"\"\"Initializes the road matrix with no roads\"\"\"\n",
        "        res = np.zeros((self.num_city, self.num_city), dtype=bool)\n",
        "        for i in range(self.num_city):\n",
        "            res[i, i] = True\n",
        "        return res\n",
        "\n",
        "    def get_distance_matrix(self):\n",
        "        \"\"\"Returns a distance matrix M where M[i, j] represents the geometric distance between city i and j\"\"\"\n",
        "        res = np.zeros((self.num_city, self.num_city))\n",
        "\n",
        "        def get_distance(i, j):\n",
        "            dx = self.cities[1, i] - self.cities[1, j]\n",
        "            dy = self.cities[2, i] - self.cities[2, j]\n",
        "            return np.sqrt(dx * dx + dy * dy)\n",
        "\n",
        "        for i in range(self.num_city):\n",
        "            res[i, i] = 0\n",
        "            for j in range(i):\n",
        "                d_ij = get_distance(i, j)\n",
        "                res[i, j] = d_ij\n",
        "                res[j, i] = d_ij\n",
        "        return res\n",
        "\n",
        "    def get_pop_flow(self):\n",
        "        \"\"\"Returns a matrix pop_flow where pop_flow[i, j] is the product of \n",
        "        populations of cities i and j\"\"\"\n",
        "        population_arr = self.cities[[0], :]\n",
        "        print(population_arr.shape)\n",
        "        return population_arr * population_arr.T\n",
        "\n",
        "    def get_shortest_path_distances(self, sigma=10):\n",
        "        \"\"\"Returns a matrix distances the same dimensions as the road_matrix, where\n",
        "        distances[i,j] = the cost of the shortest path between the city i and city j\"\"\"\n",
        "        M0 = self.distance_matrix * sigma # matrix of infinities\n",
        "        M0[self.roads] = self.distance_matrix[self.roads]\n",
        "        return scipy.sparse.csgraph.floyd_warshall(M0, directed=False)\n",
        "\n",
        "    def update_shortest_path_distances(self, sigma=10):\n",
        "        self.shortest_path_distances = self.get_shortest_path_distances(sigma=sigma)\n",
        "\n",
        "\n",
        "    def calculate_cost(self):\n",
        "        \"\"\"Returns the total cost of transportation of the network\"\"\"\n",
        "        return (self.pop_flow * self.shortest_path_distances).sum() / 2\n",
        "\n",
        "    def plot_map(self):\n",
        "        \"\"\"Plots the map of the region\"\"\"\n",
        "        V = self.num_city\n",
        "        city_arr = self.cities\n",
        "        road_matrix = self.roads\n",
        "        map_width = self.map_width\n",
        "\n",
        "        # plots the cities\n",
        "        plt.scatter(city_arr[1, :], \n",
        "                    city_arr[2, :], \n",
        "                    s=city_arr[0, :], \n",
        "                    c=np.random.rand(V,3)*0.7 + 0.3)\n",
        "  \n",
        "        # plots roads, if any\n",
        "        if road_matrix is not None:\n",
        "            connected_pairs = [(i, j) for i in range(V) for j in range(i) if road_matrix[i, j]]\n",
        "            for i, j in connected_pairs:\n",
        "                plt.plot([city_arr[1, i], city_arr[1, j]], \n",
        "                        [city_arr[2, i], city_arr[2, j]],\n",
        "                        \"g\", linestyle=\"-\")\n",
        "    \n",
        "        # add padding to the plot\n",
        "        if map_width is not None:\n",
        "            padding = map_width/25\n",
        "            plt.xlim(0 - padding, map_width + padding)\n",
        "            plt.ylim(0 - padding, map_width + padding)\n",
        "\n",
        "        # set x and y axis to be equal shape\n",
        "        plt.gca().set_aspect('equal', adjustable='box')\n",
        "\n",
        "        plt.show()"
      ]
    },
    {
      "cell_type": "markdown",
      "metadata": {
        "id": "WSMgtg0MfVGw"
      },
      "source": [
        "## III Algorithms\n",
        "### III.0 Naive algorithm.\n",
        "Before trying out sophisticated algorithms, let's first assess the possibility of applying the naive algorithm.\n",
        "\n",
        "The naive algorithm consists of testing all the possible networks, keep those that are respect the requirement of the total length of roads, and then choosing the one that is optimal.\n",
        "\n",
        "The total number of possible edges is $\\frac{(V-1) \\times (V-1))}{2} = O(V^2)$. Since for each edge, there are two possibilities of whether there is a road or not, the total number of possible configurations is $O(2^{V^2})$. Without even taking into account the calculation of the cost function, the complexity is already exponential, thus we reject the naive algorithm.\n",
        "\n"
      ]
    },
    {
      "cell_type": "markdown",
      "metadata": {
        "id": "8LOdML_GhxYs"
      },
      "source": [
        "### III.1.a Greedy Algorithm\n",
        "The greedy algorithm runs as follows:\n",
        "We start with a graph with no roads constructed. While the total length of roads we have constructed is less than the allowed length, we test out all the possible roads that may be constructed, and choose the one that contributes the most to decreasing the cost function."
      ]
    },
    {
      "cell_type": "code",
      "execution_count": 24,
      "metadata": {
        "id": "3kH6htfHhwlx"
      },
      "outputs": [],
      "source": [
        "def greedy_algorithm(transport_network):#(city_arr, max_road_length, sigma=10, verbose=True)\n",
        "  curr_road_length = 0\n",
        "  pop_flow = get_pop_flow(city_arr)\n",
        "  step_count = 0\n",
        "  distance = distance_matrix(city_arr)\n",
        "  cache = {}\n",
        "\n",
        "  # Shorthands for adding and revoving roads\n",
        "  def add_road(i, j):\n",
        "    road_matrix[i, j] = road_matrix[j, i] = True\n",
        "  \n",
        "  def remove_road(i, j):\n",
        "    road_matrix[i, j] = road_matrix[j, i] = False\n",
        "  \n",
        "  delta_map = floyd_warshall(city_arr, road_matrix, sigma=sigma)\n",
        "  curr_cost = cost(city_arr, delta_map, pop_flow=pop_flow)\n",
        "  if verbose:\n",
        "    print(f\"Step 0: The initial cost is {curr_cost}\")\n",
        "\n",
        "\n",
        "  while True: # breaks if adding any more road makes total road length reach the max allowed\n",
        "\n",
        "    step_count += 1\n",
        "    curr_best_road = None\n",
        "    curr_best_cost = np.inf\n",
        "\n",
        "    for i in range(V):\n",
        "      for j in range(i):\n",
        "\n",
        "        if road_matrix[i, j] or distance[i, j] > max_road_length - curr_road_length:\n",
        "          continue\n",
        "\n",
        "        add_road(i, j)\n",
        "        new_cost = cost(city_arr, \n",
        "                        floyd_warshall(city_arr, road_matrix, sigma=sigma), \n",
        "                        pop_flow)\n",
        "        \n",
        "        if new_cost < curr_best_cost:\n",
        "          curr_best_cost, curr_best_road = new_cost, (i, j)\n",
        "        remove_road(i,j)\n",
        "    \n",
        "    if curr_best_road is None: # no new road found\n",
        "      print(f\"The algorithm finished at step {step_count}\")\n",
        "      print(f\"The cost obtained is {curr_cost}\")\n",
        "      break\n",
        "    \n",
        "    curr_cost = curr_best_cost\n",
        "    i, j = curr_best_road\n",
        "    add_road(i, j)\n",
        "    curr_road_length += distance[i, j]\n",
        "    if verbose:\n",
        "      print(f\"Step {step_count}: The current cost is {curr_best_cost}\")\n",
        "  \n",
        "  cache[\"cost\"] = curr_cost\n",
        "  return road_matrix, cache"
      ]
    },
    {
      "cell_type": "markdown",
      "metadata": {
        "id": "JK-SO-DbpIOl"
      },
      "source": [
        "Let's plot the cities to see what out test exeample looks like."
      ]
    },
    {
      "cell_type": "code",
      "execution_count": 41,
      "metadata": {
        "colab": {
          "base_uri": "https://localhost:8080/",
          "height": 265
        },
        "id": "oc4VlJN3pA8G",
        "outputId": "e373c14a-890e-4c73-8b6c-31b3e2697c8b"
      },
      "outputs": [
        {
          "name": "stdout",
          "output_type": "stream",
          "text": [
            "(1, 50)\n"
          ]
        },
        {
          "data": {
            "image/png": "[encoded data removed]",
            "text/plain": [
              "<Figure size 432x288 with 1 Axes>"
            ]
          },
          "metadata": {
            "needs_background": "light"
          },
          "output_type": "display_data"
        }
      ],
      "source": [
        "\"\"\"\n",
        "total population: 3000\n",
        "number of cities: 50\n",
        "allowed road length: 1000\n",
        "map width: 100\n",
        "\"\"\"\n",
        "transport_network_test = TransportNetwork(tot_population=3000, num_city=50)\n",
        "transport_network_test.plot_map()"
      ]
    },
    {
      "cell_type": "markdown",
      "metadata": {
        "id": "X8-mQ7noHbxA"
      },
      "source": [
        "Side note:\n",
        "The total oppulation doesn't actually change the output, since all operation are liner."
      ]
    },
    {
      "cell_type": "markdown",
      "metadata": {
        "id": "_RHIBXSMIVeU"
      },
      "source": [
        "Let's create a network with the greedy algorithm."
      ]
    },
    {
      "cell_type": "code",
      "execution_count": 34,
      "metadata": {
        "colab": {
          "base_uri": "https://localhost:8080/"
        },
        "id": "15cMYmerpVsd",
        "outputId": "296716c0-980b-414f-a43a-2507cfd199bc"
      },
      "outputs": [
        {
          "name": "stdout",
          "output_type": "stream",
          "text": [
            "(1, 50)\n",
            "Step 0: The initial cost is 2430016158.9016128\n",
            "Step 1: The current cost is 1944462914.201656\n",
            "Step 2: The current cost is 1546194083.8450794\n",
            "Step 3: The current cost is 1208480456.9067178\n",
            "Step 4: The current cost is 1014611552.776285\n",
            "Step 5: The current cost is 911211392.5650063\n",
            "Step 6: The current cost is 831971228.168179\n",
            "Step 7: The current cost is 778355712.0037696\n",
            "Step 8: The current cost is 731400428.7672206\n",
            "Step 9: The current cost is 690923063.3401334\n",
            "Step 10: The current cost is 662294842.1839398\n",
            "Step 11: The current cost is 638221841.7760141\n",
            "Step 12: The current cost is 615657858.6330833\n",
            "Step 13: The current cost is 595269722.9382184\n",
            "Step 14: The current cost is 576256671.8428183\n",
            "Step 15: The current cost is 557749223.3432646\n",
            "Step 16: The current cost is 540320712.2057644\n",
            "Step 17: The current cost is 524109745.54709584\n",
            "Step 18: The current cost is 508689704.6242498\n",
            "Step 19: The current cost is 495495007.73612773\n",
            "Step 20: The current cost is 483180669.10621107\n",
            "Step 21: The current cost is 471282872.33047104\n",
            "Step 22: The current cost is 460538867.4441926\n",
            "Step 23: The current cost is 451389865.24824744\n",
            "Step 24: The current cost is 442624321.14337075\n",
            "Step 25: The current cost is 434125299.8691383\n",
            "Step 26: The current cost is 425742757.4660527\n",
            "Step 27: The current cost is 417449865.4203826\n",
            "Step 28: The current cost is 409463132.9246994\n",
            "Step 29: The current cost is 401617474.20419693\n",
            "Step 30: The current cost is 393820337.9612446\n",
            "Step 31: The current cost is 387179036.7231376\n",
            "Step 32: The current cost is 380657583.56665635\n",
            "Step 33: The current cost is 374722373.18530905\n",
            "Step 34: The current cost is 368833783.09743834\n",
            "Step 35: The current cost is 363590470.9154762\n",
            "Step 36: The current cost is 358350465.7475361\n",
            "Step 37: The current cost is 353416765.71267104\n",
            "Step 38: The current cost is 348839948.9045057\n",
            "Step 39: The current cost is 346380226.1924988\n",
            "The algorithm finished at step 40\n",
            "The cost obtained is 346380226.1924988\n"
          ]
        }
      ],
      "source": [
        "road_matrix_test, _ = greedy_algorithm(city_arr_test, 1000\n",
        "                                    ,sigma=10)"
      ]
    },
    {
      "cell_type": "markdown",
      "metadata": {
        "id": "PmpOSaLsIar7"
      },
      "source": [
        "We can see that the cost is decreasing with every iteration, with means our algorithm is working. Let's visualize and analyse the result:"
      ]
    },
    {
      "cell_type": "code",
      "execution_count": 35,
      "metadata": {
        "colab": {
          "base_uri": "https://localhost:8080/",
          "height": 265
        },
        "id": "fI0p5bQdtUA9",
        "outputId": "f55ff8a5-8469-44b1-ea1d-1ab3cedd085d"
      },
      "outputs": [
        {
          "data": {
            "image/png": "[encoded data removed]",
            "text/plain": [
              "<Figure size 432x288 with 1 Axes>"
            ]
          },
          "metadata": {
            "needs_background": "light"
          },
          "output_type": "display_data"
        }
      ],
      "source": [
        "plot_map(city_arr_test, road_matrix=road_matrix_test, map_width=100)"
      ]
    },
    {
      "cell_type": "markdown",
      "metadata": {
        "id": "V92lCoLEIDv-"
      },
      "source": [
        "### III.1.b Greedy algorithm II\n",
        "\n",
        "#### Analysis of the previous algorithm\n",
        "We notice a problem here: As we can see from the visualization, what our algorithm is essentially doing is linking up the smaller cities to the few bigger ones, resulting in a star-shaped (or multi-cluster star-shaped) structure. The problem is that although some roads between smaller cities have very low costs, they also contribute relatively less to decreasing the cost function. \n",
        "\n",
        "\n",
        "#### Greedy algorithm II\n",
        "We can hope to solve the problem by choosing to create, at each step, not the road that decreasese the cost function the most, but the one that decreases the cost function the most **per unit of length**. We slightly adjust the greedy algorithm:"
      ]
    },
    {
      "cell_type": "code",
      "execution_count": null,
      "metadata": {
        "id": "pRWL90QzKHX1"
      },
      "outputs": [],
      "source": [
        "def greedy_algorithm_2(city_arr, max_road_length, sigma=10, verbose=True):\n",
        "  V = city_arr.shape[1]\n",
        "  road_matrix = initialize_roads(V)\n",
        "  curr_road_length = 0\n",
        "  pop_flow = get_pop_flow(city_arr)\n",
        "  step_count = 0\n",
        "  distance = distance_matrix(city_arr)\n",
        "  cache = {}\n",
        "\n",
        "  def add_road(i, j):\n",
        "    road_matrix[i, j] = True\n",
        "    road_matrix[j, i] = True\n",
        "  \n",
        "  def remove_road(i, j):\n",
        "    road_matrix[i, j] = False\n",
        "    road_matrix[j, i] = False\n",
        "  \n",
        "  delta_map = floyd_warshall(city_arr, road_matrix, sigma=sigma)\n",
        "  curr_cost = cost(city_arr, delta_map, pop_flow=pop_flow)\n",
        "  if verbose:\n",
        "    print(f\"Step 0: The initial cost is {curr_cost}\")\n",
        "\n",
        "\n",
        "  while True: # breaks if no new road that satisfies curr_road_length < max_road_length is found\n",
        "\n",
        "    step_count += 1\n",
        "    curr_best_road = None\n",
        "    # This line is changed:\n",
        "    curr_best_cost_per_length = -np.inf\n",
        "    curr_best_cost = np.inf\n",
        "\n",
        "    for i in range(V):\n",
        "      for j in range(i):\n",
        "\n",
        "        if road_matrix[i, j] or distance[i, j] > max_road_length - curr_road_length:\n",
        "          continue\n",
        "\n",
        "        add_road(i, j)\n",
        "        new_cost = cost(city_arr, \n",
        "                        floyd_warshall(city_arr, road_matrix, sigma=sigma), \n",
        "                        pop_flow)\n",
        "        # The line below is changed:\n",
        "        cost_per_length = (curr_cost - new_cost) / distance[i, j]\n",
        "        \n",
        "        if cost_per_length > curr_best_cost_per_length:\n",
        "          curr_best_cost_per_length, curr_best_road = cost_per_length, (i, j)\n",
        "          curr_best_cost = new_cost\n",
        "\n",
        "        remove_road(i,j)\n",
        "    \n",
        "    if curr_best_road is None:\n",
        "      print(f\"Step {step_count}: The current cost is {curr_best_cost}\",\n",
        "            f\"Road length {curr_road_length}/{max_road_length}\")\n",
        "      print(f\"The algorithm finished at step {step_count}\")\n",
        "      print(f\"The cost obtained is {curr_cost}\")\n",
        "      break\n",
        "    \n",
        "    curr_cost = curr_best_cost\n",
        "    i, j = curr_best_road\n",
        "    add_road(i, j)\n",
        "    curr_road_length += distance[i, j]\n",
        "    if verbose:\n",
        "      print(f\"Step {step_count}: The current cost is {curr_best_cost}\",\n",
        "            f\"Road length {curr_road_length}/{max_road_length}\")\n",
        "    \n",
        "  cache[\"cost\"] = curr_cost\n",
        "  return (road_matrix, cache)"
      ]
    },
    {
      "cell_type": "markdown",
      "metadata": {
        "id": "3eLFNglfRIQQ"
      },
      "source": [
        "We can see that the final cost is dramatically smaller than what we get from the previous implementation. However, it took a lot more steps to train than the previous one. We may explain this by the fact that the second algorithm interests itself a lot more in connections between the neighboring smaller cities, since its goal in each step is not to find the road that has the most **per-unit-length** cost reduction. Let's have a look at the end result here:"
      ]
    },
    {
      "cell_type": "code",
      "execution_count": null,
      "metadata": {
        "colab": {
          "base_uri": "https://localhost:8080/",
          "height": 265
        },
        "id": "x-1IYh5RM3EX",
        "outputId": "538dc2a4-d9a2-43f1-93df-fbfee6662a4b"
      },
      "outputs": [
        {
          "data": {
            "image/png": "[encoded data removed]",
            "text/plain": [
              "<Figure size 432x288 with 1 Axes>"
            ]
          },
          "metadata": {
            "needs_background": "light",
            "tags": []
          },
          "output_type": "display_data"
        }
      ],
      "source": [
        "plot_map(city_arr_test, road_matrix=road_matrix_test, map_width=100)"
      ]
    },
    {
      "cell_type": "markdown",
      "metadata": {
        "id": "mS3QFIGRMvgi"
      },
      "source": [
        "plot_map(city_arr_test, road_matrix=road_matrix_test, map_width=map_width_test)"
      ]
    },
    {
      "cell_type": "code",
      "execution_count": null,
      "metadata": {
        "colab": {
          "base_uri": "https://localhost:8080/",
          "height": 741
        },
        "id": "15pD6ykyTmIR",
        "outputId": "d40f76ce-fe87-4481-9d6b-1598e78ccbfd"
      },
      "outputs": [
        {
          "name": "stdout",
          "output_type": "stream",
          "text": [
            "(1, 25)\n",
            "Step 0: The initial cost is 10436882014.551622\n",
            "Step 1: The current cost is 9352894301.868067 Road length 16.920914014097548/400\n",
            "Step 2: The current cost is 7852680402.109489 Road length 45.59823305031952/400\n",
            "Step 3: The current cost is 6510960188.086296 Road length 71.97337724870435/400\n",
            "Step 4: The current cost is 5459508108.702422 Road length 97.87605929669873/400\n",
            "Step 5: The current cost is 3927900293.308029 Road length 136.1423439789357/400\n",
            "Step 6: The current cost is 3797968224.255771 Road length 140.94348115571046/400\n",
            "Step 7: The current cost is 3531645914.8965063 Road length 151.7138566073173/400\n",
            "Step 8: The current cost is 3413634918.944354 Road length 157.03021605150795/400\n",
            "Step 9: The current cost is 3008005576.5342264 Road length 175.635772122863/400\n",
            "Step 10: The current cost is 2452861065.276985 Road length 201.96210566725247/400\n",
            "Step 11: The current cost is 1936962780.7387338 Road length 227.88263020701456/400\n",
            "Step 12: The current cost is 1426176568.1931105 Road length 253.8818767674402/400\n",
            "Step 13: The current cost is 1178282924.1273875 Road length 274.1798997750745/400\n",
            "Step 14: The current cost is 1063487087.9679304 Road length 284.0682899706665/400\n",
            "Step 15: The current cost is 955221799.9036951 Road length 294.6247557440317/400\n",
            "Step 16: The current cost is 831404643.6465908 Road length 307.9141312720821/400\n",
            "Step 17: The current cost is 754683282.1251583 Road length 317.36704289314685/400\n",
            "Step 18: The current cost is 692206003.9560152 Road length 325.0800102125279/400\n",
            "Step 19: The current cost is 658890225.4843605 Road length 329.76929911678934/400\n",
            "Step 20: The current cost is 562920857.1372783 Road length 344.10745907776374/400\n",
            "Step 21: The current cost is 511785902.18901026 Road length 352.63285497674696/400\n",
            "Step 22: The current cost is 455897407.29198074 Road length 362.4332942058535/400\n",
            "Step 23: The current cost is 344508804.6334356 Road length 382.9297463853184/400\n",
            "Step 24: The current cost is 272094548.2656385 Road length 397.50760043451055/400\n",
            "The algorithm finished at step 25\n",
            "The cost obtained is 272094548.2656385\n"
          ]
        },
        {
          "data": {
            "image/png": "[encoded data removed]",
            "text/plain": [
              "<Figure size 432x288 with 1 Axes>"
            ]
          },
          "metadata": {
            "needs_background": "light",
            "tags": []
          },
          "output_type": "display_data"
        }
      ],
      "source": [
        "np.random.seed(100)\n",
        "#city_arr_test_20 = generate_cities(tot_population=3000, num_city=25, map_width=100)\n",
        "road_matrix_20, _ = greedy_algorithm_2(city_arr_test_20, max_road_length=400,sigma=50)\n",
        "plot_map(city_arr_test_20, road_matrix=road_matrix_20, map_width=100)"
      ]
    },
    {
      "cell_type": "markdown",
      "metadata": {
        "id": "1fv4oMEKMKFN"
      },
      "source": [
        "III.2 Backward removal"
      ]
    },
    {
      "cell_type": "code",
      "execution_count": null,
      "metadata": {
        "id": "1w2l4_KUELds"
      },
      "outputs": [],
      "source": [
        "def backward_removal(city_arr, max_road_length, sigma=10, verbose=True):\n",
        "  V = city_arr.shape[1]\n",
        "  road_matrix = np.ones((V, V), dtype=bool)\n",
        "  pop_flow = get_pop_flow(city_arr)\n",
        "  step_count = 0\n",
        "  distance = distance_matrix(city_arr)\n",
        "  curr_road_length = distance.sum() / 2\n",
        "  cache = {}\n",
        "\n",
        "  def add_road(i, j):\n",
        "    road_matrix[i, j] = True\n",
        "    road_matrix[j, i] = True\n",
        "  \n",
        "  def remove_road(i, j):\n",
        "    road_matrix[i, j] = False\n",
        "    road_matrix[j, i] = False\n",
        "  \n",
        "  delta_map = floyd_warshall(city_arr, road_matrix, sigma=sigma)\n",
        "  curr_cost = cost(city_arr, delta_map, pop_flow=pop_flow)\n",
        "  if verbose:\n",
        "    print(f\"Step 0: The initial cost is {curr_cost}\")\n",
        "\n",
        "  # We decrease incrementally the current road length\n",
        "  while curr_road_length > max_road_length:\n",
        "    step_count += 1\n",
        "    curr_worst_road = None\n",
        "\n",
        "    curr_worst_cost_per_length = np.inf\n",
        "    curr_best_cost = np.inf\n",
        "\n",
        "    for i in range(V):\n",
        "      for j in range(i):\n",
        "\n",
        "        if not road_matrix[i, j]:\n",
        "          continue\n",
        "\n",
        "        remove_road(i, j)\n",
        "        new_cost = cost(city_arr, \n",
        "                        floyd_warshall(city_arr, road_matrix, sigma=sigma), \n",
        "                        pop_flow)\n",
        "\n",
        "        cost_per_length = (new_cost - curr_cost) / distance[i, j]\n",
        "        \n",
        "        if cost_per_length < curr_worst_cost_per_length:\n",
        "          curr_worst_cost_per_length, curr_worst_road = cost_per_length, (i, j)\n",
        "          curr_best_cost = new_cost\n",
        "\n",
        "        add_road(i,j)\n",
        "    \n",
        "    if curr_worst_road is None:\n",
        "      print(f\"Step {step_count}: The current cost is {curr_best_cost}\",\n",
        "            f\"Road length {curr_road_length}/{max_road_length}\")\n",
        "      print(f\"The algorithm finished at step {step_count}\")\n",
        "      print(f\"The cost obtained is {curr_cost}\")\n",
        "      break\n",
        "    \n",
        "    curr_cost = curr_best_cost\n",
        "    i, j = curr_worst_road\n",
        "    remove_road(i, j)\n",
        "    curr_road_length -= distance[i, j]\n",
        "    if verbose and step_count%10==0:\n",
        "      print(f\"Step {step_count}: The current cost is {curr_best_cost}\",\n",
        "            f\"Road length {curr_road_length}/{max_road_length}\")\n",
        "    \n",
        "  cache[\"cost\"] = curr_cost\n",
        "  return (road_matrix, cache)"
      ]
    },
    {
      "cell_type": "markdown",
      "metadata": {
        "id": "RphTkPUcH_u-"
      },
      "source": []
    },
    {
      "cell_type": "code",
      "execution_count": null,
      "metadata": {
        "colab": {
          "base_uri": "https://localhost:8080/",
          "height": 758
        },
        "id": "qYfwfxoyK-Yk",
        "outputId": "1489ca33-f8d9-4b5b-acce-e2a37199becf"
      },
      "outputs": [
        {
          "name": "stdout",
          "output_type": "stream",
          "text": [
            "(1, 25)\n",
            "Step 0: The initial cost is 208737640.2910324\n",
            "Step 10: The current cost is 208737676.99561998 Road length 16490.418517620124/400\n",
            "Step 20: The current cost is 208737888.601915 Road length 15692.182880526763/400\n",
            "Step 30: The current cost is 208738329.60239077 Road length 14939.435751119789/400\n",
            "Step 40: The current cost is 208739218.76566234 Road length 14130.175022667883/400\n",
            "Step 50: The current cost is 208740732.59121335 Road length 13343.921865815448/400\n",
            "Step 60: The current cost is 208743060.60364366 Road length 12570.965658713367/400\n",
            "Step 70: The current cost is 208746410.37436998 Road length 11767.17964494011/400\n",
            "Step 80: The current cost is 208750515.2611081 Road length 11078.157955859035/400\n",
            "Step 90: The current cost is 208756661.8600372 Road length 10428.730122184126/400\n",
            "Step 100: The current cost is 208766638.51605457 Road length 9695.306553658127/400\n",
            "Step 110: The current cost is 208783296.5361498 Road length 8938.145487454418/400\n",
            "Step 120: The current cost is 208802997.53251517 Road length 8303.543112034786/400\n",
            "Step 130: The current cost is 208836048.41781133 Road length 7576.877963757628/400\n",
            "Step 140: The current cost is 208875448.9644569 Road length 6864.816868383611/400\n",
            "Step 150: The current cost is 208929403.43693286 Road length 6166.350791023654/400\n",
            "Step 160: The current cost is 208993133.565152 Road length 5604.300434830043/400\n",
            "Step 170: The current cost is 209084920.06902623 Road length 4959.076825563219/400\n",
            "Step 180: The current cost is 209194097.19438428 Road length 4356.96547400867/400\n",
            "Step 190: The current cost is 209334566.0647621 Road length 3798.7482126325963/400\n",
            "Step 200: The current cost is 209533436.29251528 Road length 3327.310100046549/400\n",
            "Step 210: The current cost is 209837172.61442393 Road length 2823.254953424342/400\n",
            "Step 220: The current cost is 210390725.53219604 Road length 2350.882698150935/400\n",
            "Step 230: The current cost is 211246801.8060248 Road length 1986.5852522244236/400\n",
            "Step 240: The current cost is 213116545.36776158 Road length 1528.3830699483094/400\n",
            "Step 250: The current cost is 215686419.12887985 Road length 1187.5863449752408/400\n",
            "Step 260: The current cost is 222895977.57934904 Road length 839.002470371809/400\n",
            "Step 270: The current cost is 236199619.0230656 Road length 545.2476074193727/400\n"
          ]
        },
        {
          "data": {
            "image/png": "[encoded data removed]",
            "text/plain": [
              "<Figure size 432x288 with 1 Axes>"
            ]
          },
          "metadata": {
            "needs_background": "light",
            "tags": []
          },
          "output_type": "display_data"
        }
      ],
      "source": [
        "np.random.seed(100)\n",
        "city_arr_test_20 = generate_cities(tot_population=3000, num_city=25, map_width=100)\n",
        "road_matrix_20, _ = backward_removal(city_arr_test_20, max_road_length=400,sigma=50)\n",
        "plot_map(city_arr_test_20, road_matrix=road_matrix_20, map_width=100)"
      ]
    },
    {
      "cell_type": "code",
      "execution_count": null,
      "metadata": {
        "id": "EZY9KQwxPe4n"
      },
      "outputs": [],
      "source": [
        "def genetic_algorithm(city_arr, max_road_length, sigma=10, verbose=True, pond_size=5):\n",
        "  V = city_arr.shape[1]\n",
        "  road_matrix = np.ones((V, V), dtype=bool)\n",
        "  pop_flow = get_pop_flow(city_arr)\n",
        "  step_count = 0\n",
        "  distance = distance_matrix(city_arr)\n",
        "  curr_road_length = distance.sum() / 2\n",
        "  cache = {}\n",
        "\n",
        "  def add_road(i, j):\n",
        "    road_matrix[i, j] = True\n",
        "    road_matrix[j, i] = True\n",
        "  \n",
        "  def remove_road(i, j):\n",
        "    road_matrix[i, j] = False\n",
        "    road_matrix[j, i] = False\n",
        "  \n",
        "  delta_map = floyd_warshall(city_arr, road_matrix, sigma=sigma)\n",
        "  curr_cost = cost(city_arr, delta_map, pop_flow=pop_flow)"
      ]
    },
    {
      "cell_type": "markdown",
      "metadata": {
        "id": "zrm-ONdAsxyb"
      },
      "source": []
    },
    {
      "cell_type": "markdown",
      "metadata": {
        "id": "ors4dKfLCW2H"
      },
      "source": [
        "ideas to try:\n",
        "\n",
        "different sigma for training and for testing.\n",
        "\n",
        "increase in cost / length\n",
        "\n",
        "TODO:\n",
        "complexity analysis"
      ]
    }
  ],
  "metadata": {
    "colab": {
      "collapsed_sections": [],
      "name": "Simulation informatique et réseaux de transport.ipynb",
      "provenance": []
    },
    "kernelspec": {
      "display_name": "Python 3",
      "name": "python3"
    },
    "language_info": {
      "codemirror_mode": {
        "name": "ipython",
        "version": 3
      },
      "file_extension": ".py",
      "mimetype": "text/x-python",
      "name": "python",
      "nbconvert_exporter": "python",
      "pygments_lexer": "ipython3",
      "version": "3.9.7"
    }
  },
  "nbformat": 4,
  "nbformat_minor": 0
}

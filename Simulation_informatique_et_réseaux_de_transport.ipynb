{
  "cells": [
    {
      "cell_type": "markdown",
      "metadata": {
        "id": "bXgCKcj7LWwr"
      },
      "source": [
        "# Computer simulation of transport networks.\n",
        "## Auteur: Pinglei He"
      ]
    },
    {
      "cell_type": "markdown",
      "metadata": {
        "id": "PQCSFV2FuI3w"
      },
      "source": [
        "## O Introduction\n",
        "\n",
        "### O.0 Motivation\n",
        "This Jupyter notebook is a recode of a project dedicated to the TIPE exam for the French National Entrance Exam of engineering schools (Concours d’entrée aux Grandes Écoles), in preparation for the Digital Tech Year. The study focuses on the optimization of a transport network, according to the models and the optimization objectives stated below.\n",
        "\n",
        "Simply put, we study the optimization of the performance of a transport network modeled as a non-oriented graph, with its nodes representing cites and the edges representing whether or not there is an direct route between two cities. The terms \"road\", \"link\", \"edge\" are used interchangeably in this notebook.\n",
        "\n",
        "### 0.1 The question that we want to answer\n",
        "Given the positions and the populations of the cities in a region, and a total distance of roads we can build, how do we choose which roads to build.\n",
        "\n",
        "### O.2 Notations\n",
        "$V$ : The number of cities\n",
        "\n",
        "$P_v$: The population of city $v \\in ⟦1 ... V⟧$"
      ]
    },
    {
      "cell_type": "markdown",
      "metadata": {
        "id": "4kLE-OQiLYvm"
      },
      "source": [
        "## I. The Model\n",
        "### I.1 City distributions\n",
        "According to the (empirical) [Zipf's Law](https://en.wikipedia.org/wiki/Zipf's_law), the populations counts of the cities in a country follow the Zipf's distribution. That is to say, if we denote $V$ the total number of cities in a country, and $P_1 ... P_V$ the populations of single cities in the descendent order, we have: \n",
        "$$ \\mathbb{E}(\\frac{P_v}{P_1}) = \\frac{1}{v} $$\n",
        "\n",
        "To avoid unneccesary complexities in modeling the cities, we have chosen to omit the edge-case country shapes (such as the oblong Chile), nor do we consider different topologically unrelated/unconnected components of a country(such as Mainland US vs. Alaska) and we set the map to be a square-shape, with the position of the cities to distribute uniformely across the map.\n",
        "\n"
      ]
    },
    {
      "cell_type": "markdown",
      "metadata": {
        "id": "ofShd3LsLgyH"
      },
      "source": [
        "## Importing modules"
      ]
    },
    {
      "cell_type": "code",
      "execution_count": 1,
      "metadata": {
        "id": "TVh1JHUYLdlG"
      },
      "outputs": [],
      "source": [
        "import numpy as np\n",
        "import matplotlib.pyplot as plt\n",
        "import matplotlib.lines as lines\n",
        "import random as rd\n",
        "import scipy\n",
        "import scipy.sparse\n",
        "import copy"
      ]
    },
    {
      "cell_type": "markdown",
      "metadata": {
        "id": "UP-rQb_DKeQU"
      },
      "source": [
        "The function below produces a 3 $\\times$ V matrix, with each column vector representing a city in the form of $[population, x position, y position]$.\n",
        "$$\\begin{pmatrix}\n",
        "pop_1 & ... & pop_v\\\\\n",
        "x_1 & ... & x_v\\\\\n",
        "y_1 & ... & y_v\n",
        "\\end{pmatrix}$$"
      ]
    },
    {
      "cell_type": "code",
      "execution_count": 3,
      "metadata": {
        "id": "6VUAjLfELtQV"
      },
      "outputs": [],
      "source": [
        "def generate_cities(tot_population, num_city, map_width):\n",
        "  \"\"\"Returns a (3, num_city) array representing the cities.\n",
        "  Each column contains [city_population, x-position, y_position]\n",
        "  \"\"\"\n",
        "  harmonic_arr = np.array([1/v for v in range(1, num_city + 1)])\n",
        "  harmonic_arr_normalized = harmonic_arr / harmonic_arr.sum()\n",
        "  population_arr = (tot_population * harmonic_arr_normalized).reshape((1, num_city))\n",
        "  position_arr = np.random.rand(2, num_city) * map_width\n",
        "  return np.concatenate((population_arr, position_arr), axis=0)"
      ]
    },
    {
      "cell_type": "markdown",
      "metadata": {
        "id": "Hn6JhAD94r6L"
      },
      "source": [
        "## I.2 Transport net representation\n",
        "In order to represent the edges of the graph, we use the dense representation with a boolean matrix. For the edge matrix M, M[i, j] is equal to true if and only if there is a road directly linking i with j. "
      ]
    },
    {
      "cell_type": "code",
      "execution_count": 4,
      "metadata": {
        "id": "kHhPP-wX4Ew4"
      },
      "outputs": [],
      "source": [
        "def initialize_roads(num_city, prop=0):\n",
        "  '''\n",
        "  Returns a boolean array of shape (num_city, num_city) filled with False.\n",
        "\n",
        "    Parameters:\n",
        "      num_city (int): the number of cities in the region\n",
        "  '''\n",
        "  res = np.zeros((num_city, num_city), dtype=bool)"
      ]
    },
    {
      "cell_type": "markdown",
      "metadata": {},
      "source": [
        "The function below allows us to visualize the transport network of a region, given information about its population distribution and the roads that are constructed. "
      ]
    },
    {
      "cell_type": "code",
      "execution_count": 5,
      "metadata": {
        "id": "6oPoA0dbKXF4"
      },
      "outputs": [],
      "source": [
        "def plot_map(city_arr, road_matrix=None, map_width=None):\n",
        "  \"\"\"Plots the map of the region\"\"\"\n",
        "  V = city_arr.shape[1]\n",
        "\n",
        "  # plots the cities\n",
        "  plt.scatter(city_arr[1, :], \n",
        "              city_arr[2, :], \n",
        "              s=city_arr[0, :], \n",
        "              c=np.random.rand(V,3)*0.7 + 0.3)\n",
        "  \n",
        "  # plots roads, if any\n",
        "  if road_matrix is not None:\n",
        "    connected_pairs = [(i, j) for i in range(V) for j in range(i) if road_matrix[i, j]]\n",
        "    for i, j in connected_pairs:\n",
        "      plt.plot([city_arr[1, i], city_arr[1, j]], \n",
        "              [city_arr[2, i], city_arr[2, j]],\n",
        "              \"g\", linestyle=\"-\")\n",
        "    \n",
        "  # add padding to the plot\n",
        "  if map_width is not None:\n",
        "    padding = map_width/25\n",
        "    plt.xlim(0 - padding, map_width + padding)\n",
        "    plt.ylim(0 - padding, map_width + padding)\n",
        "\n",
        "  # set x and y axis to be equal shape\n",
        "  plt.gca().set_aspect('equal', adjustable='box')\n",
        "\n",
        "  plt.show()"
      ]
    },
    {
      "cell_type": "markdown",
      "metadata": {
        "id": "WzNQzazqOhUY"
      },
      "source": [
        "Let's visualize a randomly generated map:"
      ]
    },
    {
      "cell_type": "code",
      "execution_count": 6,
      "metadata": {
        "colab": {
          "base_uri": "https://localhost:8080/",
          "height": 265
        },
        "id": "l6spVvuPLuen",
        "outputId": "9092f13f-44e4-4016-c5f0-99c85b31b454"
      },
      "outputs": [
        {
          "data": {
            "image/png": "[encoded data removed]",
            "text/plain": [
              "<Figure size 432x288 with 1 Axes>"
            ]
          },
          "metadata": {
            "needs_background": "light"
          },
          "output_type": "display_data"
        }
      ],
      "source": [
        "# seeds numpy.random for consistency\n",
        "np.random.seed(60)\n",
        "\n",
        "# params\n",
        "tot_population = 2000\n",
        "num_city = 20\n",
        "map_width = 200\n",
        "\n",
        "# generate a random city\n",
        "city_arr = generate_cities(tot_population, num_city, map_width)\n",
        "\n",
        "plot_map(city_arr)"
      ]
    },
    {
      "cell_type": "markdown",
      "metadata": {},
      "source": [
        "If we compare the map of France to a randomly generated map using the above-mentioned method, we can see that our model produces maps that are quite similar to actual maps:\n",
        "\n",
        "#### The population distribution of France\n",
        "<img src=\"./images/france_city_distribution.png\" alt=\"french_city_distribution\" width=\"60% vw\">\n",
        "\n",
        "#### A randomly generated population distribution\n",
        "<img src=\"./images/zipf_generated_distribution.png\" alt=\"simulated_distribution\" width=\"40% vw\">"
      ]
    },
    {
      "cell_type": "markdown",
      "metadata": {
        "id": "WwygCI8iO-nf"
      },
      "source": [
        "## II Optimization objectives\n",
        "Before carrying out optimizations, we shall defined the optimization objectives. \n",
        "\n",
        "We assume that the probability that one person leaves his city is independent with respect to the city. We thus natually have that, the outgoing flow of population of a given city is proportional to the size of the city:\n",
        "$$flow_{out}(v) \\propto pop_v$$\n",
        "\n",
        "And when it comes to ingoing population, the more population a city has, the more businesses it has, and the more attractive it is. We may assume that the ingoing population flow is somewhat proportional to its total population. :\n",
        "$$ flow_{in}(v) \\propto pop_v$$\n",
        "\n",
        "If we ignoge the change in total population of the country, the above two proportionality constants must be equal.\n",
        "$$ flow_{in}(v) = flow_{out}(v)$$\n",
        "\n",
        "In this model, we assume that the relative geometrical distance between two cities does not affect the flow of population between the twto cities:\n",
        "\n",
        "$$ flow(i, j) \\propto pop_{i} \\times pop_{j} $$\n",
        "\n",
        "Since we're modeling the network as a weighted graph, let's define the weights of the edges:\n",
        "\n",
        "if $M[i,j]$ :   $w(i,j) = d(i, j)$\n",
        "\n",
        "if $not M[i,j]$ : $w(i,j) = \\sigma \\times d(i, j)$\n",
        "\n",
        "The weight of an edge between two nodes (i,j) is defined as the cost for one unit of population to go from city i to city j if they were to follow the straight line between the two cities(and vice versa). If there is a road between the two, we set it to be the geometric distance between the two cities. If there isn't one, we penalize the travel cost by multiply the distance with a smoothing constant $\\sigma >> 1$to avoid infinities (which would be problematic for optimizations). Let's say that between two cities, there is no direct road. We suppose that traveling between the two cities would be sigma times more difficult than if there was a road (instead of considering that such a scenario is impossible).\n",
        "\n",
        "When one travels from a city i to a city j, the cost of the travel depends of the path that the person follows. Thus we define the weight of a path to be the sum of the weights of the roads belonging to the path:\n",
        "\n",
        "The weight of a path:\n",
        "$$ w(v_1, v_2 ... v_p) = \\sum_{k=1}^{p-1}w(v_k, v_k+1) $$\n",
        "\n",
        "The distance by road (or graph distance) between two cities:\n",
        "$$ \\delta(i,j) = min_{\\text{path between i and j}}(w(path))$$\n",
        "\n",
        "The optimization objective to minimize is the total cost of transportation for the whole region/country:\n",
        "$$ cost(M) = \\sum_{1 < i, j < V} \\delta(i,j) \\times flow(i, j)$$"
      ]
    },
    {
      "cell_type": "markdown",
      "metadata": {
        "id": "xSEZrI5nL7_x"
      },
      "source": [
        "### Graph distance calculation\n",
        "In order to calculate the $\\delta(i,j)$s, we use the Floyd-Warshall algorithm. Since one floyd-warshall takes $O(n^3)$ to run, in order to take advantage of the multiprocessing power of the computer and the speed of a lower-level implementation, we will use the scipy module to do the Floyd-Warshall calculation."
      ]
    },
    {
      "cell_type": "code",
      "execution_count": 7,
      "metadata": {
        "id": "hMTeIVZ2O-NW"
      },
      "outputs": [],
      "source": [
        "\n",
        "def distance_matrix(city_arr):\n",
        "  \"\"\"Returns a matrix representing the geometric distances between cities\"\"\"\n",
        "  V = city_arr.shape[1]\n",
        "  res = np.zeros((V, V))\n",
        "\n",
        "  # compute the distance between two cities i and j\n",
        "  def get_distance(i, j):\n",
        "    dx = city_arr[1, i] - city_arr[1, j]\n",
        "    dy = city_arr[2, i] - city_arr[2, j]\n",
        "    return np.sqrt(dx * dx + dy * dy)\n",
        "\n",
        "  for i in range(V):\n",
        "    res[i, i] = 0\n",
        "    for j in range(i):\n",
        "      d_ij = get_distance(i, j)\n",
        "      res[i, j] = d_ij\n",
        "      res[j, i] = d_ij\n",
        "  return res\n",
        "\n",
        "def floyd_warshall(city_arr, road_matrix, sigma=10):\n",
        "  \"\"\"Returns a matrix distances the same dimensions as the road_matrix, where\n",
        "  distances[i,j] = the cost of the shortest path between the city i and city j\"\"\"\n",
        "  V = city_arr.shape[1]\n",
        "  geo_distance = distance_matrix(city_arr)\n",
        "  M0 = geo_distance * sigma # matrix of infinities\n",
        "  M0[road_matrix] = geo_distance[road_matrix]\n",
        "  return scipy.sparse.csgraph.floyd_warshall(M0, directed=False)"
      ]
    },
    {
      "cell_type": "markdown",
      "metadata": {
        "id": "4TEIi0FxXj72"
      },
      "source": [
        "Now let's defined a cost function according to equations above. This function takes in input the delta_map calculated by the floyd_warshall function, where delta_map[i, j] is the path with the lowest weight, and outputs the cost of the transport network. Our objective in the sections below would be to lower the cost function."
      ]
    },
    {
      "cell_type": "code",
      "execution_count": 8,
      "metadata": {
        "id": "KPp9UNbsdp83"
      },
      "outputs": [],
      "source": [
        "def get_pop_flow(city_arr):\n",
        "  \"\"\"Returns a matrix pop_flow where pop_flow[i, j] is the product of \n",
        "  populations of cities i and j\"\"\"\n",
        "  population_arr = city_arr[[0], :]\n",
        "  print(population_arr.shape)\n",
        "  return population_arr * population_arr.T"
      ]
    },
    {
      "cell_type": "code",
      "execution_count": 10,
      "metadata": {
        "id": "N4biFkz5TA8L"
      },
      "outputs": [],
      "source": [
        "def cost(city_arr, delta_map, pop_flow=None):\n",
        "  \"\"\"Returns the total cost of transportation of the network\"\"\"\n",
        "  if pop_flow is None:\n",
        "    pop_flow = get_pop_flow(city_arr)\n",
        "  return (pop_flow * delta_map).sum() / 2"
      ]
    },
    {
      "cell_type": "markdown",
      "metadata": {},
      "source": [
        "### II.3 Restructuring\n",
        "The following code block simply encapsulates the code above into a TransportNetwork class, which includes information about the the network, including the positions and the populations of the cities, the map width, and the connections between the cities. We also added some minor helper methods used in algorithms below for better code re-useability and type hint for easier debugging purpopses."
      ]
    },
    {
      "cell_type": "code",
      "execution_count": 68,
      "metadata": {},
      "outputs": [],
      "source": [
        "class TransportNetwork():\n",
        "    \n",
        "    def __init__(self, tot_population: int, num_city: int, map_width=100, cities=None):\n",
        "        \"\"\"\n",
        "        Randomly generates a square region with its populations following the Zipf's Law.\n",
        "\n",
        "        Parameters\n",
        "        ----------\n",
        "            tot_population : int\n",
        "                the total population of the region\n",
        "            num_city : int\n",
        "                the total number of cities in the region\n",
        "            map_width : float\n",
        "                the width of the region  \n",
        "        \"\"\"\n",
        "        self.tot_population = tot_population\n",
        "        self.num_city = num_city\n",
        "        self.map_width = map_width\n",
        "        self.cities =  self.generate_cities() if cities is None else cities\n",
        "        self.pop_flow = self.get_pop_flow()\n",
        "        self.roads = self.initialize_roads()\n",
        "        self.distance_matrix = self.get_distance_matrix()\n",
        "        self.shortest_path_distances = self.get_shortest_path_distances()\n",
        "        self.cost = self.calculate_cost()\n",
        "\n",
        "    def generate_copy(self) -> \"TransportNetwork\":\n",
        "        \"\"\"Returns a deep copy of the network.\"\"\"\n",
        "        # return TransportNetwork(tot_population=self.tot_population, \n",
        "        #                         num_city=self.num_city,\n",
        "        #                         map_width=self.map_width,\n",
        "        #                         cities=self.cities)\n",
        "        return copy.deepcopy(self)\n",
        "        \n",
        "    def generate_cities(self) -> np.array:\n",
        "        \"\"\"Randomly generates information about the coordinates and the populations of the cities\"\"\"\n",
        "        harmonic_arr = np.array([1/v for v in range(1, self.num_city + 1)])\n",
        "        harmonic_arr_normalized = harmonic_arr / harmonic_arr.sum()\n",
        "        population_arr = (self.tot_population * harmonic_arr_normalized).reshape((1, self.num_city))\n",
        "        position_arr = np.random.rand(2, self.num_city) * self.map_width\n",
        "        return np.concatenate((population_arr, position_arr), axis=0)\n",
        "\n",
        "    def initialize_roads(self) -> np.array:\n",
        "        \"\"\"Returns an empty road matrix\"\"\"\n",
        "        res = np.zeros((self.num_city, self.num_city), dtype=bool)\n",
        "\n",
        "    def get_distance_matrix(self) -> np.array:\n",
        "        \"\"\"Returns a distance matrix M where M[i, j] represents the geometric distance between city i and j\"\"\"\n",
        "        res = np.zeros((self.num_city, self.num_city))\n",
        "\n",
        "        def get_distance(i, j):\n",
        "            dx = self.cities[1, i] - self.cities[1, j]\n",
        "            dy = self.cities[2, i] - self.cities[2, j]\n",
        "            return np.sqrt(dx * dx + dy * dy)\n",
        "\n",
        "        for i in range(self.num_city):\n",
        "            res[i, i] = 0\n",
        "            for j in range(i):\n",
        "                d_ij = get_distance(i, j)\n",
        "                res[i, j] = d_ij\n",
        "                res[j, i] = d_ij\n",
        "        return res\n",
        "\n",
        "    def get_pop_flow(self) -> np.array:\n",
        "        \"\"\"Returns a matrix pop_flow where pop_flow[i, j] is the product of populations of cities i and j\"\"\"\n",
        "        population_arr = self.cities[[0], :]\n",
        "        print(population_arr.shape)\n",
        "        return population_arr * population_arr.T\n",
        "\n",
        "    def get_shortest_path_distances(self, sigma=10.0) -> np.array:\n",
        "        \"\"\"Returns a matrix distance_matrix the same dimensions as the road_matrix, where\n",
        "        distance_matrix[i,j] is the cost of the shortest path between the city i and city j\"\"\"\n",
        "        M0 = self.distance_matrix * sigma\n",
        "        M0[self.roads] = self.distance_matrix[self.roads]\n",
        "        return scipy.sparse.csgraph.floyd_warshall(M0, directed=False)\n",
        "\n",
        "    def update_shortest_path_distances(self, sigma=10.0) -> None:\n",
        "        \"\"\"Updates the shortest path distances of the network using the Floyd-Warshall algorithm\"\"\"\n",
        "        self.shortest_path_distances = self.get_shortest_path_distances(sigma=sigma)\n",
        "\n",
        "    def calculate_cost(self) -> float:\n",
        "        \"\"\"Returns the total cost of transportation of the network\"\"\"\n",
        "        self.update_shortest_path_distances()\n",
        "        return (self.pop_flow * self.shortest_path_distances).sum() / 2\n",
        "\n",
        "    def plot_map(self) -> None:\n",
        "        \"\"\"Plots the map of the region\"\"\"\n",
        "        V = self.num_city\n",
        "        city_arr = self.cities\n",
        "        road_matrix = self.roads\n",
        "        map_width = self.map_width\n",
        "\n",
        "        # plots the cities\n",
        "        plt.scatter(city_arr[1, :], \n",
        "                    city_arr[2, :], \n",
        "                    s=city_arr[0, :], \n",
        "                    c=np.random.rand(V,3)*0.7 + 0.3)\n",
        "  \n",
        "        # plots roads, if any\n",
        "        if road_matrix is not None:\n",
        "            connected_pairs = [(i, j) for i in range(V) for j in range(i) if road_matrix[i, j]]\n",
        "            for i, j in connected_pairs:\n",
        "                plt.plot([city_arr[1, i], city_arr[1, j]], \n",
        "                        [city_arr[2, i], city_arr[2, j]],\n",
        "                        \"g\", linestyle=\"-\")\n",
        "    \n",
        "        # add padding to the plot\n",
        "        if map_width is not None:\n",
        "            padding = map_width/25\n",
        "            plt.xlim(0 - padding, map_width + padding)\n",
        "            plt.ylim(0 - padding, map_width + padding)\n",
        "\n",
        "        # set x and y axis to be equal shape\n",
        "        plt.gca().set_aspect('equal', adjustable='box')\n",
        "\n",
        "        plt.show()\n",
        "    \n",
        "    def add_road(self, i: int, j: int, calculate_cost=True) -> None:\n",
        "        \"\"\"Adds a road between city i and city j. \n",
        "        If calculate_cost is set to True, update the shortest path distances using Floyd-Warshall\"\"\"\n",
        "        self.roads[i, j] = self.roads[j, i] = True\n",
        "        if calculate_cost: self.update_shortest_path_distances()\n",
        "\n",
        "    def remove_road(self, i: int, j: int, calculate_cost=True) -> None:\n",
        "        \"\"\"Removes a road between city i and city j. \n",
        "        If calculate_cost is set to True, update the shortest path distances using Floyd-Warshall\"\"\"\n",
        "        self.roads[i, j] = self.roads[j, i] = False\n",
        "        if calculate_cost: self.update_shortest_path_distances()\n",
        "\n",
        "    def reinitialize(self) -> None:\n",
        "        \"\"\"Reinitializes the road matrix to an empty matrix\"\"\"\n",
        "        self.roads = np.zeros((self.num_city, self.num_city), dtype=bool)\n",
        "\n",
        "    def has_road(self, i: int, j: int):\n",
        "        \"\"\"Returns True if there's a straight road between city i and city j, else returns False\"\"\"\n",
        "        return self.roads[i, j]"
      ]
    },
    {
      "cell_type": "markdown",
      "metadata": {
        "id": "JK-SO-DbpIOl"
      },
      "source": [
        "Let's plot the cities to see what out test exeample looks like."
      ]
    },
    {
      "cell_type": "code",
      "execution_count": 91,
      "metadata": {
        "colab": {
          "base_uri": "https://localhost:8080/",
          "height": 265
        },
        "id": "oc4VlJN3pA8G",
        "outputId": "e373c14a-890e-4c73-8b6c-31b3e2697c8b"
      },
      "outputs": [
        {
          "name": "stdout",
          "output_type": "stream",
          "text": [
            "(1, 30)\n"
          ]
        },
        {
          "data": {
            "image/png": "[encoded data removed]",
            "text/plain": [
              "<Figure size 432x288 with 1 Axes>"
            ]
          },
          "metadata": {
            "needs_background": "light"
          },
          "output_type": "display_data"
        }
      ],
      "source": [
        "np.random.seed(40)\n",
        "transport_network_test = TransportNetwork(tot_population=4000, map_width=100, num_city=30)\n",
        "transport_network_test.plot_map()"
      ]
    },
    {
      "cell_type": "markdown",
      "metadata": {
        "id": "WSMgtg0MfVGw"
      },
      "source": [
        "## III Algorithms\n",
        "### III.0 Naive algorithm.\n",
        "Before trying out sophisticated algorithms, let's first assess the possibility of applying the naive algorithm.\n",
        "\n",
        "The naive algorithm consists of testing all the possible networks that respect the requirement of the total length of roads, and then choosing the one that is optimal.\n",
        "\n",
        "The total number of possible edges is $\\frac{(V-1) \\times (V-1))}{2} = O(V^2)$. Since for each edge, there are two possibilities of whether there is a road or not, the total number of possible configurations is $O(2^{V^2})$. Without even taking into account the calculation of the cost function, the complexity is already exponential, thus we reject the naive algorithm.\n",
        "\n"
      ]
    },
    {
      "cell_type": "markdown",
      "metadata": {},
      "source": [
        "## III.1 Covariance Algorithm\n",
        "The principle of the algorithm goes as follows: We randomly generate the road_matrix respecting the max_road_length requirement, and we save the cost obtained. We repeat the processs a number of times, and we look at the covariance between the presence of a road and the cost obtained. At the end, we keep the roads that are the most negatively-correlated to the cost of the network (since the lower the cost, the better the network)."
      ]
    },
    {
      "cell_type": "code",
      "execution_count": 98,
      "metadata": {},
      "outputs": [],
      "source": [
        "def random_network_road_contributions(network: TransportNetwork, max_road_length: float, num_iter: int) -> np.ndarray:\n",
        "    \"\"\"returns a contributions matrix of shape (num_city, num_city) where at index i,j we have the \n",
        "    correlation between the presence of road (i,j) and the performance/efficiency of the transport network\"\"\"\n",
        "    costs = []\n",
        "    road_matrices = []\n",
        "\n",
        "    # generate num_iter number of random networks and add save the cost and the graph edge matrices\n",
        "    for _ in range(num_iter):\n",
        "        network.roads = network.initialize_roads()\n",
        "        curr_length = 0\n",
        "        while curr_length < max_road_length:\n",
        "            i = np.random.randint(0, network.num_city)\n",
        "            j = np.random.randint(0, network.num_city)\n",
        "            if network.roads[i, j]: continue\n",
        "            curr_length += network.distance_matrix[i, j]\n",
        "            network.add_road(i, j, calculate_cost=False)\n",
        "        \n",
        "        network.update_shortest_path_distances()\n",
        "        costs.append(network.calculate_cost())\n",
        "        road_matrices.append(np.copy(network.roads))\n",
        "    \n",
        "    # calculate the covariance between the presence of each edge and the cost\n",
        "    costs = np.array(costs)\n",
        "    road_matrices = np.array(road_matrices).astype(int)\n",
        "    #covariance_with_cost[i, j] is the correlation between the presence of edge[i, j] and the cost\n",
        "    covariance_with_cost = np.zeros(shape=(network.num_city, network.num_city), dtype=np.float64)\n",
        "    for i in range(network.num_city):\n",
        "        for j in range(network.num_city):\n",
        "            covariance_with_cost[i, j] = np.cov(road_matrices[:,i, j], costs)[0, 1]\n",
        "\n",
        "    #since the lower the cost, the better, we look at minus covariance to measure the contribution of each road\n",
        "    contribution_matrix = - covariance_with_cost\n",
        "    return contribution_matrix\n",
        "\n",
        "def select_best_roads_from_contribution_matrix(network: TransportNetwork, road_contribution_matrix: np.ndarray, max_road_length: float, verbose=True) -> TransportNetwork:\n",
        "    \"\"\"Construct the roads that are the most correlated to the performance\"\"\"\n",
        "    # we store (i, j, road_contribution_matrix[i,j] into a list)\n",
        "    road_contributions = [(i, j, road_contribution_matrix[i, j]) for i in range(network.num_city) for j in range(network.num_city)]\n",
        "    road_contributions.sort(key=lambda el: el[2])\n",
        "\n",
        "    # we construct the network until max_road_length is obtained\n",
        "    # reinitialize the network's roads\n",
        "    network.roads = network.initialize_roads()\n",
        "    curr_length = 0\n",
        "    road_count = 0\n",
        "    while curr_length < max_road_length:\n",
        "        (i, j, _) = road_contributions.pop()\n",
        "        curr_length += network.distance_matrix[i, j]\n",
        "        road_count += 1\n",
        "        network.add_road(i, j, calculate_cost=False)\n",
        "    if verbose: print(f\"{road_count} roads have been added to the network. The final cost is {network.calculate_cost()}\")\n",
        "    "
      ]
    },
    {
      "cell_type": "markdown",
      "metadata": {},
      "source": [
        "Let's see how this algorithm works on our test country/region.\n",
        "In order to compare the performance of different algorithms on the same test example, we need to use the same population distribution (cities with their positions and their populations) and also the same max_road_length. \n",
        "\n",
        "The max_road_length must have a reasonable order of magnitude. We chose to set the max_road_length to be 800 for our example. The thought process behind this arbitrary choice goes as follows: If we had a grid-like network, with four horizontal roads and four vertical roads that spans across the whole country, we would have 2 * 4 * 100 = 800 units of roads."
      ]
    },
    {
      "cell_type": "code",
      "execution_count": 86,
      "metadata": {},
      "outputs": [
        {
          "name": "stdout",
          "output_type": "stream",
          "text": [
            "(1, 30)\n",
            "24 roads have been added to the network. The final cost is 2321138179.648451\n"
          ]
        }
      ],
      "source": [
        "transport_network_test_cov = transport_network_test.generate_copy()\n",
        "road_contributions = random_network_road_contributions(transport_network_test_cov, max_road_length=800, num_iter=4000)\n",
        "select_best_roads_from_contribution_matrix(transport_network_test_cov, road_contribution_matrix=road_contributions, max_road_length=800)"
      ]
    },
    {
      "cell_type": "code",
      "execution_count": 87,
      "metadata": {},
      "outputs": [
        {
          "data": {
            "image/png": "[encoded data removed]",
            "text/plain": [
              "<Figure size 432x288 with 1 Axes>"
            ]
          },
          "metadata": {
            "needs_background": "light"
          },
          "output_type": "display_data"
        }
      ],
      "source": [
        "transport_network_test_cov.plot_map()"
      ]
    },
    {
      "cell_type": "markdown",
      "metadata": {},
      "source": [
        "Observations: The algorithm seems to be linking up only the biggest cities, while ignoring the smaller ones. We may explain this phenomenon by the fact that, by linking up two relatively small cities, the direct decrease of the cost is very small, unless the road between the two cities serve as part of a path which link up more cities. However, since we are limiting the max_road_length during the correlation calculation phase, a road is rarely part of a somewhat important path, since the networks are generated randomly.\n",
        "\n",
        "In order to increase the probability that a road is part of a longer path, we may choose a different (greater) max_road_length for the correlation calculation and for the actual construction of the network."
      ]
    },
    {
      "cell_type": "markdown",
      "metadata": {
        "id": "X8-mQ7noHbxA"
      },
      "source": [
        "Side note:\n",
        "The total oppulation doesn't actually change the output, since every other parameter being equal, the cost function is simply linear with respect to the square of the total population. "
      ]
    },
    {
      "cell_type": "code",
      "execution_count": 97,
      "metadata": {},
      "outputs": [
        {
          "data": {
            "text/plain": [
              "22970.52832332228"
            ]
          },
          "execution_count": 97,
          "metadata": {},
          "output_type": "execute_result"
        }
      ],
      "source": [
        "transport_network_test_cov.distance_matrix.sum()/2 # the total road length if every possible road is constructed"
      ]
    },
    {
      "cell_type": "code",
      "execution_count": 106,
      "metadata": {},
      "outputs": [
        {
          "name": "stdout",
          "output_type": "stream",
          "text": [
            "Road lengths for correlation calculation:  [300, 400, 600, 800, 1000, 1200, 1500, 2000, 2500, 3000, 4000, 5000, 7000, 10000, 12000, 15000, 18000, 20000, 22000]\n",
            "The computed cost of the computed network [2833178526.3558073, 2816491764.080313, 2050938813.8063703, 2029867607.980722, 1847157747.0665116, 1225633833.352193, 1849671214.337126, 758856084.9809874, 830343665.0160887, 893163694.1074042, 646052297.1605186, 496820661.5062486, 496696486.5629004, 394130955.54582816, 400604674.4175261, 365240733.0148619, 365588558.42978144, 358718314.35254353, 356232031.9157354]\n"
          ]
        }
      ],
      "source": [
        "road_lengths_for_correlation_calculation = [300, 400, 600, 800, 1000, \n",
        "                                            1200, 1500, 2000, 2500, 3000, \n",
        "                                            4000, 5000, 7000, 10000, 12000, \n",
        "                                            15000, 18000, 20000, 22000] # the road_lengths for the correlation phase to test\n",
        "network_costs = []\n",
        "\n",
        "for max_road_length in road_lengths_for_correlation_calculation:\n",
        "    road_contributions = random_network_road_contributions(transport_network_test_cov, max_road_length=max_road_length, num_iter=500)\n",
        "    select_best_roads_from_contribution_matrix(transport_network_test_cov, road_contribution_matrix=road_contributions, max_road_length=800, verbose=False)\n",
        "    network_costs.append(transport_network_test_cov.calculate_cost())\n",
        "\n",
        "print(\"Road lengths for correlation calculation: \",road_lengths_for_correlation_calculation)\n",
        "print(\"The computed cost of the computed network\", network_costs)\n"
      ]
    },
    {
      "cell_type": "markdown",
      "metadata": {},
      "source": [
        "Let's confirm our intuition by plotting the network_costs and the road lengths during the correlation calculation phase:"
      ]
    },
    {
      "cell_type": "code",
      "execution_count": 107,
      "metadata": {},
      "outputs": [
        {
          "data": {
            "text/plain": [
              "[<matplotlib.lines.Line2D at 0x1298c88e0>]"
            ]
          },
          "execution_count": 107,
          "metadata": {},
          "output_type": "execute_result"
        },
        {
          "data": {
            "image/png": "[encoded data removed]",
            "text/plain": [
              "<Figure size 432x288 with 1 Axes>"
            ]
          },
          "metadata": {
            "needs_background": "light"
          },
          "output_type": "display_data"
        }
      ],
      "source": [
        "\n",
        "plt.plot(road_lengths_for_correlation_calculation, network_costs)"
      ]
    },
    {
      "cell_type": "markdown",
      "metadata": {},
      "source": [
        "As we can see, the cost of the final output decreases dramatically with when we increase the allowed length of the roads during the correlation calculation phase, until it enters into a plateau at around 15000). Let's have a look at the best_performing network:"
      ]
    },
    {
      "cell_type": "code",
      "execution_count": 108,
      "metadata": {},
      "outputs": [
        {
          "data": {
            "image/png": "[encoded data removed]",
            "text/plain": [
              "<Figure size 432x288 with 1 Axes>"
            ]
          },
          "metadata": {
            "needs_background": "light"
          },
          "output_type": "display_data"
        }
      ],
      "source": [
        "transport_network_test_cov.plot_map()"
      ]
    },
    {
      "cell_type": "markdown",
      "metadata": {},
      "source": [
        "### Observation\n",
        "The final output of the best performing graph using the covariance method still does not seem to be satisfying. We suggest that the reason behind this is that the contribution of a road (an edge in the graph) to the performance depends very much on how where the other roads are placed. Since we're taking the edges of the graph that has a strong (negative) correlation with the cost independently, without taking into consideration the other roads that contribute to the correlation, the result is hardly satisfying. In the following section, we're going to construct the network step-by-step, edge-by-edge, road-by-road, and at each step keeping the previouly constructed roads. This ensures that the inter-dependencies of the roads are taken into consideration."
      ]
    },
    {
      "cell_type": "markdown",
      "metadata": {
        "id": "8LOdML_GhxYs"
      },
      "source": [
        "### III.2.a Greedy Algorithm\n",
        "The greedy algorithm runs as follows:\n",
        "We start with a graph with no roads constructed. We test out all the possible roads that may be constructed, and choose the one that contributes the most to decreasing the cost function. We repeat the process until no more roads can be constructed without violating the max_road_length constraint."
      ]
    },
    {
      "cell_type": "code",
      "execution_count": 13,
      "metadata": {
        "id": "3kH6htfHhwlx"
      },
      "outputs": [],
      "source": [
        "def greedy_algorithm(transport_network: TransportNetwork, max_road_length: float, verbose=True):\n",
        "  curr_road_length = 0\n",
        "  step_count = 0\n",
        "  cache = {}\n",
        "  \n",
        "  curr_cost = transport_network.calculate_cost()\n",
        "\n",
        "  if verbose:\n",
        "    print(f\"Step 0: The initial cost is {curr_cost}\")\n",
        "\n",
        "\n",
        "  while True: # breaks if adding any more road makes total road length reach the max allowed\n",
        "\n",
        "    step_count += 1\n",
        "    curr_best_road = None\n",
        "    curr_best_cost = np.inf\n",
        "\n",
        "    for i in range(transport_network.num_city):\n",
        "      for j in range(i):\n",
        "\n",
        "        if transport_network.roads[i, j] or transport_network.distance_matrix[i, j] > max_road_length - curr_road_length:\n",
        "          continue\n",
        "\n",
        "        transport_network.add_road(i, j)\n",
        "        new_cost = transport_network.calculate_cost()\n",
        "        \n",
        "        if new_cost < curr_best_cost:\n",
        "          curr_best_cost, curr_best_road = new_cost, (i, j)\n",
        "        transport_network.remove_road(i,j)\n",
        "    \n",
        "    if curr_best_road is None: # no new road found\n",
        "      print(f\"The algorithm finished at step {step_count}\")\n",
        "      print(f\"The cost obtained is {curr_cost}\")\n",
        "      break\n",
        "    \n",
        "    curr_cost = curr_best_cost\n",
        "    i, j = curr_best_road\n",
        "    transport_network.add_road(i, j)\n",
        "    curr_road_length += transport_network.distance_matrix[i, j]\n",
        "    if verbose:\n",
        "      print(f\"Step {step_count}: The current cost is {curr_best_cost}\")\n",
        "  \n",
        "  cache[\"cost\"] = curr_cost"
      ]
    },
    {
      "cell_type": "markdown",
      "metadata": {
        "id": "_RHIBXSMIVeU"
      },
      "source": [
        "Let's create a network with the greedy algorithm."
      ]
    },
    {
      "cell_type": "code",
      "execution_count": 15,
      "metadata": {
        "colab": {
          "base_uri": "https://localhost:8080/"
        },
        "id": "15cMYmerpVsd",
        "outputId": "296716c0-980b-414f-a43a-2507cfd199bc"
      },
      "outputs": [
        {
          "name": "stdout",
          "output_type": "stream",
          "text": [
            "(1, 30)\n",
            "Step 0: The initial cost is 3561299750.406417\n",
            "Step 1: The current cost is 2883066722.1917543\n",
            "Step 2: The current cost is 2332812490.3997974\n",
            "Step 3: The current cost is 2111791637.8542254\n",
            "Step 4: The current cost is 1905047700.7413461\n",
            "Step 5: The current cost is 1701025856.4655104\n",
            "Step 6: The current cost is 1557058590.5492518\n",
            "Step 7: The current cost is 1416949783.2873492\n",
            "Step 8: The current cost is 1290142681.3399417\n",
            "Step 9: The current cost is 1175450687.5132933\n",
            "Step 10: The current cost is 1072061776.1985168\n",
            "Step 11: The current cost is 990921793.3193822\n",
            "Step 12: The current cost is 923246824.021068\n",
            "Step 13: The current cost is 860540855.2607768\n",
            "Step 14: The current cost is 804927156.8296181\n",
            "Step 15: The current cost is 758173052.0453202\n",
            "Step 16: The current cost is 719846579.3160646\n",
            "Step 17: The current cost is 685727969.109513\n",
            "Step 18: The current cost is 652970782.7412229\n",
            "Step 19: The current cost is 621734317.926429\n",
            "Step 20: The current cost is 598903164.698286\n",
            "Step 21: The current cost is 577195506.2107832\n",
            "Step 22: The current cost is 560228113.7233455\n",
            "Step 23: The current cost is 543645170.4182227\n",
            "Step 24: The current cost is 524887516.49061936\n",
            "Step 25: The current cost is 508811502.26319206\n",
            "Step 26: The current cost is 495577388.9928415\n",
            "Step 27: The current cost is 484479396.8830412\n",
            "The algorithm finished at step 28\n",
            "The cost obtained is 484479396.8830412\n"
          ]
        }
      ],
      "source": [
        "transport_network_test_1 = transport_network_test.generate_copy()\n",
        "greedy_algorithm(transport_network_test_1, max_road_length=800, verbose=True)"
      ]
    },
    {
      "cell_type": "markdown",
      "metadata": {
        "id": "PmpOSaLsIar7"
      },
      "source": [
        "We can see that the cost is decreasing with every iteration, with means our algorithm is working. Let's visualize and analyse the result:"
      ]
    },
    {
      "cell_type": "code",
      "execution_count": 16,
      "metadata": {
        "colab": {
          "base_uri": "https://localhost:8080/",
          "height": 265
        },
        "id": "fI0p5bQdtUA9",
        "outputId": "f55ff8a5-8469-44b1-ea1d-1ab3cedd085d"
      },
      "outputs": [
        {
          "data": {
            "image/png": "[encoded data removed]",
            "text/plain": [
              "<Figure size 432x288 with 1 Axes>"
            ]
          },
          "metadata": {
            "needs_background": "light"
          },
          "output_type": "display_data"
        }
      ],
      "source": [
        "transport_network_test_1.plot_map()"
      ]
    },
    {
      "cell_type": "markdown",
      "metadata": {
        "id": "V92lCoLEIDv-"
      },
      "source": [
        "### III.2.b Greedy algorithm II\n",
        "\n",
        "#### Analysis of the previous algorithm\n",
        "We notice a problem here: As we can see from the visualization, what our algorithm is essentially doing is linking up the smaller cities to the few bigger ones, resulting in a star-shaped (or multi-cluster star-shaped) structure. The problem is that although some roads between smaller cities have very low costs, they also contribute relatively less to decreasing the cost function. \n",
        "\n",
        "\n",
        "#### Greedy algorithm II\n",
        "We can hope to solve the problem by choosing to create, at each step, not the road that decreasese the cost function the most, but the one that decreases the cost function the most **per unit of length**. We slightly adjust the greedy algorithm:"
      ]
    },
    {
      "cell_type": "code",
      "execution_count": 23,
      "metadata": {
        "id": "pRWL90QzKHX1"
      },
      "outputs": [],
      "source": [
        "def greedy_algorithm_2(transport_network: TransportNetwork, max_road_length, sigma=10, verbose=True, report_every=10):\n",
        "  curr_road_length = 0\n",
        "  step_count = 0\n",
        "  cache = {}\n",
        "  \n",
        "  curr_cost = transport_network.calculate_cost()\n",
        "  if verbose:\n",
        "    print(f\"Step 0: The initial cost is {curr_cost}\")\n",
        "\n",
        "  while True: # breaks if no new road that satisfies curr_road_length < max_road_length is found\n",
        "    step_count += 1\n",
        "    curr_best_road = None\n",
        "    # This line is changed:\n",
        "    curr_best_cost_per_length = -np.inf\n",
        "    curr_best_cost = np.inf\n",
        "\n",
        "    for i in range(transport_network.num_city):\n",
        "      for j in range(i):\n",
        "\n",
        "        if transport_network.roads[i, j] or transport_network.distance_matrix[i, j] > max_road_length - curr_road_length:\n",
        "          continue\n",
        "\n",
        "        transport_network.add_road(i, j)\n",
        "        new_cost = transport_network.calculate_cost()\n",
        "        # The line below is changed:\n",
        "        cost_per_length = (curr_cost - new_cost) / transport_network.distance_matrix[i, j]\n",
        "        \n",
        "        if cost_per_length > curr_best_cost_per_length:\n",
        "          curr_best_cost_per_length, curr_best_road = cost_per_length, (i, j)\n",
        "          curr_best_cost = new_cost\n",
        "\n",
        "        transport_network.remove_road(i,j)\n",
        "    \n",
        "    if curr_best_road is None:\n",
        "      print(f\"Step {step_count}: The current cost is {curr_best_cost}\",\n",
        "            f\"Road length {curr_road_length}/{max_road_length}\")\n",
        "      print(f\"The algorithm finished at step {step_count}\")\n",
        "      print(f\"The cost obtained is {curr_cost}\")\n",
        "      break\n",
        "    \n",
        "    curr_cost = curr_best_cost\n",
        "    i, j = curr_best_road\n",
        "    transport_network.add_road(i, j)\n",
        "    curr_road_length += transport_network.distance_matrix[i, j]\n",
        "    if verbose and step_count%report_every==0:\n",
        "      print(f\"Step {step_count}: The current cost is {curr_best_cost}\",\n",
        "            f\"Road length {curr_road_length}/{max_road_length}\")\n",
        "    \n",
        "  cache[\"cost\"] = curr_cost"
      ]
    },
    {
      "cell_type": "markdown",
      "metadata": {
        "id": "3eLFNglfRIQQ"
      },
      "source": [
        "We can see that the final cost is dramatically smaller than what we get from the previous implementation. However, it took a lot more steps to train than the previous one. We may explain this by the fact that the second algorithm interests itself a lot more in connections between the neighboring smaller cities, since its goal in each step is not to find the road that has the most **per-unit-length** cost reduction. Let's have a look at the end result here:"
      ]
    },
    {
      "cell_type": "code",
      "execution_count": 24,
      "metadata": {
        "colab": {
          "base_uri": "https://localhost:8080/",
          "height": 265
        },
        "id": "x-1IYh5RM3EX",
        "outputId": "538dc2a4-d9a2-43f1-93df-fbfee6662a4b"
      },
      "outputs": [
        {
          "name": "stdout",
          "output_type": "stream",
          "text": [
            "(1, 30)\n",
            "Step 0: The initial cost is 3561299750.406417\n",
            "Step 10: The current cost is 1226329556.7755804 Road length 200.4479053494093/800\n",
            "Step 20: The current cost is 634894351.0534617 Road length 364.9974101250033/800\n",
            "Step 30: The current cost is 481806172.1495568 Road length 471.48664322732/800\n",
            "Step 40: The current cost is 396429965.2034892 Road length 722.510507107877/800\n",
            "Step 44: The current cost is inf Road length 792.902743376531/800\n",
            "The algorithm finished at step 44\n",
            "The cost obtained is 390663591.8104032\n"
          ]
        }
      ],
      "source": [
        "transport_network_test_2= transport_network_test.generate_copy()\n",
        "greedy_algorithm_2(transport_network_test_2, max_road_length=800)"
      ]
    },
    {
      "cell_type": "markdown",
      "metadata": {
        "id": "mS3QFIGRMvgi"
      },
      "source": [
        "plot_map(city_arr_test, road_matrix=road_matrix_test, map_width=map_width_test)"
      ]
    },
    {
      "cell_type": "markdown",
      "metadata": {},
      "source": [
        "We can see that the cost yielded by the new algorithm is significantly smaller than that of the first greedy algorithm. Let's have a look at the new network generated by our algorithm:"
      ]
    },
    {
      "cell_type": "code",
      "execution_count": 19,
      "metadata": {},
      "outputs": [
        {
          "name": "stdout",
          "output_type": "stream",
          "text": [
            "The new cost is 390663591.8104032\n"
          ]
        },
        {
          "data": {
            "image/png": "[encoded data removed]",
            "text/plain": [
              "<Figure size 432x288 with 1 Axes>"
            ]
          },
          "metadata": {
            "needs_background": "light"
          },
          "output_type": "display_data"
        }
      ],
      "source": [
        "print(f\"The new cost is {transport_network_test_2.calculate_cost()}\")\n",
        "transport_network_test_2.plot_map()"
      ]
    },
    {
      "cell_type": "markdown",
      "metadata": {
        "id": "1fv4oMEKMKFN"
      },
      "source": [
        "## III.3 Backward removal\n",
        "\n",
        "### Context\n",
        "In order to find better inspiration for the algorithms, we are going to look at a monocellular creature, called Physarum polycephalum, also commonly known as \"the blob\". One surprising fact about the creature is that it is a natural path finder. When given food on a flat surface, such as oatmeals for example, where each oatmeal piece is equivalent to a city, with its size proportional to the sizes of the cities, the creature can actually links between the oatmeals and produces a network which is very close to that of an optimized transportation network. More information about this creature can be found <a href=\"https://www.researchgate.net/figure/Comparison-of-the-Physarum-networks-with-the-Tokyo-rail-network-A-In-the-absence-of_fig2_41111573\">in this paper</a>.\n",
        "\n",
        "\n",
        "Below is a picture showing the blob recreating the Tokyo subway system:\n",
        "\n",
        "<img src=\"./images/polysepharum_demonstration.png\" width=\"40% vw\" alt=\"polycepharum-reproducing-tokyo-map\"/>\n",
        "\n",
        " We decided to buy some of polycephalum and observed the behavior of this creature. Below are images that we've taken for one week of observation.\n",
        "\n",
        "<img src=\"./images/observations/day_1.png\" width=\"30% vw\" alt=\"day-1-observation\"/>\n",
        "<img src=\"./images/observations/day_2.png\" width=\"30% vw\" alt=\"day-2-observation\"/>\n",
        "<img src=\"./images/observations/day_3.png\" width=\"30% vw\" alt=\"day-3-observation\"/>\n",
        "<img src=\"./images/observations/day_4.png\" width=\"30% vw\" alt=\"day-4-observation\"/>\n",
        "<img src=\"./images/observations/day_5.png\" width=\"30% vw\" alt=\"day-5-observation\"/>\n",
        "<img src=\"./images/observations/day_6.png\" width=\"30% vw\" alt=\"day-6-observation\"/>\n",
        "\n",
        "What we observe is that the blob initially tries to create as many links as possible between the cities, as you can see from the first pictures. After having reached all the cities, the blob actually removes little by little the ones that are less used, only keeping links where the \"trafic\" is the most affluent, as you can see from the last two pictures.\n",
        "\n",
        "We've decided to take inspiration directly from the blob, and instead of adding the roads little by little, we start with a dense network, where between each pair of cities there is a direct road. Then, we remove the cities little by little, until the max_road_length restriction is satisfied."
      ]
    },
    {
      "cell_type": "markdown",
      "metadata": {},
      "source": [
        "We can imagine at least one case where the backward_removal algorithm is better than the previous greedy algorithm. Let's imagine that we have three cities, with two major cities and one smaller city:"
      ]
    },
    {
      "cell_type": "code",
      "execution_count": 25,
      "metadata": {
        "id": "1w2l4_KUELds"
      },
      "outputs": [],
      "source": [
        "def backward_removal(transport_network: TransportNetwork, max_road_length: float, verbose=True, report_every=10):\n",
        "  transport_network.roads = np.ones((transport_network.num_city, transport_network.num_city), dtype=bool)\n",
        "  transport_network.update_shortest_path_distances()\n",
        "  step_count = 0\n",
        "  curr_road_length = transport_network.distance_matrix.sum() / 2\n",
        "  cache = {}\n",
        "  \n",
        "  curr_cost = transport_network.calculate_cost()\n",
        "  if verbose:\n",
        "    print(f\"Step 0: The initial cost is {curr_cost}\")\n",
        "\n",
        "  # We decrease incrementally the current road length\n",
        "  while curr_road_length > max_road_length:\n",
        "    step_count += 1\n",
        "    curr_worst_road = None\n",
        "\n",
        "    curr_worst_cost_per_length = np.inf\n",
        "    curr_best_cost = np.inf\n",
        "\n",
        "    for i in range(transport_network.num_city):\n",
        "      for j in range(i):\n",
        "\n",
        "        if not transport_network.roads[i, j]:\n",
        "          continue\n",
        "\n",
        "        transport_network.remove_road(i, j)\n",
        "        new_cost = transport_network.calculate_cost()\n",
        "\n",
        "        cost_per_length = (new_cost - curr_cost) / transport_network.distance_matrix[i, j]\n",
        "        \n",
        "        if cost_per_length < curr_worst_cost_per_length:\n",
        "          curr_worst_cost_per_length, curr_worst_road = cost_per_length, (i, j)\n",
        "          curr_best_cost = new_cost\n",
        "\n",
        "        transport_network.add_road(i, j)\n",
        "    \n",
        "    if curr_worst_road is None:\n",
        "      # After the last road is removed, we continue to add some roads according to the greedy_algorithm, so that the\n",
        "      # algorithm is not penalized by the fact that the total road length is a bit less than the greedy algorithm.\n",
        "\n",
        "      print(f\"Step {step_count}: The current cost is {curr_best_cost}\",\n",
        "            f\"Road length {curr_road_length}/{max_road_length}\")\n",
        "      print(f\"The algorithm finished at step {step_count}\")\n",
        "      print(f\"The cost obtained is {curr_cost}\")\n",
        "      break\n",
        "    \n",
        "    curr_cost = curr_best_cost\n",
        "    i, j = curr_worst_road\n",
        "    transport_network.remove_road(i, j)\n",
        "    curr_road_length -= transport_network.distance_matrix[i, j]\n",
        "    if verbose and step_count%report_every==0:\n",
        "      print(f\"Step {step_count}: The current cost is {curr_best_cost}\",\n",
        "            f\"Road length {curr_road_length}/{max_road_length}\")\n",
        "    \n",
        "  cache[\"cost\"] = curr_cost"
      ]
    },
    {
      "cell_type": "markdown",
      "metadata": {
        "id": "RphTkPUcH_u-"
      },
      "source": []
    },
    {
      "cell_type": "code",
      "execution_count": 26,
      "metadata": {
        "colab": {
          "base_uri": "https://localhost:8080/",
          "height": 758
        },
        "id": "qYfwfxoyK-Yk",
        "outputId": "1489ca33-f8d9-4b5b-acce-e2a37199becf"
      },
      "outputs": [
        {
          "name": "stdout",
          "output_type": "stream",
          "text": [
            "(1, 30)\n",
            "Step 0: The initial cost is 356129975.0406417\n",
            "Step 50: The current cost is 356130462.865999 Road length 19197.20326176441/800\n",
            "Step 100: The current cost is 356136838.30246127 Road length 15779.200725698027/800\n",
            "Step 150: The current cost is 356167372.38724947 Road length 12404.858209841883/800\n",
            "Step 200: The current cost is 356273767.6686755 Road length 9149.063336218787/800\n",
            "Step 250: The current cost is 356593601.5292328 Road length 6345.1202927578925/800\n",
            "Step 300: The current cost is 357452754.500385 Road length 4059.763240915929/800\n",
            "Step 350: The current cost is 361901899.7996806 Road length 2087.678766383324/800\n"
          ]
        }
      ],
      "source": [
        "transport_network_test_backward_removal = transport_network_test.generate_copy()\n",
        "backward_removal(transport_network_test_backward_removal, max_road_length=800, report_every=50)"
      ]
    },
    {
      "cell_type": "markdown",
      "metadata": {},
      "source": [
        "Let's see the results:"
      ]
    },
    {
      "cell_type": "code",
      "execution_count": 22,
      "metadata": {},
      "outputs": [
        {
          "name": "stdout",
          "output_type": "stream",
          "text": [
            "The new cost of the backward removal algorithm is 387975820.229575\n"
          ]
        },
        {
          "data": {
            "image/png": "[encoded data removed]",
            "text/plain": [
              "<Figure size 432x288 with 1 Axes>"
            ]
          },
          "metadata": {
            "needs_background": "light"
          },
          "output_type": "display_data"
        }
      ],
      "source": [
        "print(f\"The new cost of the backward removal algorithm is {transport_network_test_backward_removal.calculate_cost()}\")\n",
        "transport_network_test_backward_removal.plot_map()"
      ]
    },
    {
      "cell_type": "code",
      "execution_count": 113,
      "metadata": {
        "id": "EZY9KQwxPe4n"
      },
      "outputs": [],
      "source": [
        "def genetic_algorithm(transport_net: TransportNetwork, pond_size=5, expansion_factor=10, max_road_length=800, \n",
        "                    num_iter=100, verbose=True, report_every=1, max_num_roads_to_remove=5) -> None:\n",
        "    pond: list[TransportNetwork] = []\n",
        "    transport_net = transport_net.generate_copy() # for avoiding side-effects\n",
        "    transport_net.reinitialize()\n",
        "    transport_net.cost = transport_net.calculate_cost()\n",
        "\n",
        "    # initialize pond\n",
        "    for _ in range(pond_size):\n",
        "        transport_net_copy = transport_net.generate_copy()\n",
        "        curr_length = 0\n",
        "        while curr_length < max_road_length:\n",
        "            i = np.random.randint(0, transport_net_copy.num_city)\n",
        "            j = np.random.randint(0, transport_net_copy.num_city)\n",
        "            if transport_net_copy.has_road(i, j):\n",
        "                continue\n",
        "            curr_length += transport_net_copy.distance_matrix[i, j]\n",
        "            transport_net_copy.add_road(i, j, calculate_cost=False)\n",
        "        transport_net_copy.cost = transport_net_copy.calculate_cost()\n",
        "        pond.append(transport_net_copy)\n",
        "    \n",
        "    def generate_offsprings(net: TransportNetwork):\n",
        "        \"\"\"Given a TransportNetwork instance, randomly change roads to generate modified offsprings in a list and return it.\"\"\"\n",
        "        res = [net]\n",
        "        road_length = (net.roads.astype(int) * net.distance_matrix).sum() / 2 # the road length of the network\n",
        "        for _ in range(expansion_factor - 1):\n",
        "            offspring = net.generate_copy()\n",
        "            curr_length = road_length\n",
        "\n",
        "            # randomly remove 1 to max_num_roads_to_remove roads\n",
        "            for road_number in range(np.random.randint(1, max_num_roads_to_remove)):\n",
        "                while True:\n",
        "                    i = np.random.randint(offspring.num_city)\n",
        "                    j = np.random.randint(offspring.num_city)\n",
        "                    if offspring.has_road(i, j):\n",
        "                        offspring.remove_road(i, j, calculate_cost=False)\n",
        "                        curr_length -= offspring.distance_matrix[i, j]\n",
        "                        break\n",
        "            \n",
        "            # randomly add roads until the total road lengths surpass max_road_length\n",
        "            while curr_length < max_road_length:\n",
        "                i = np.random.randint(offspring.num_city)\n",
        "                j = np.random.randint(offspring.num_city)\n",
        "                if offspring.has_road(i, j):\n",
        "                    continue\n",
        "                offspring.add_road(i, j, calculate_cost=False)\n",
        "                curr_length += offspring.distance_matrix[i, j]\n",
        "            \n",
        "            # save the cost of the offspring and add it to the result\n",
        "            offspring.cost = offspring.calculate_cost()\n",
        "            res.append(offspring)\n",
        "    \n",
        "        return res\n",
        "            \n",
        "    # at each iteration, we keep the best ones of the offsprings in the pond\n",
        "    for iter in range(num_iter):\n",
        "        offsprings = []\n",
        "        for net in pond:\n",
        "            offsprings += generate_offsprings(net)\n",
        "        offsprings.sort(key=lambda network: network.cost)\n",
        "        pond = offsprings[:pond_size]\n",
        "        if verbose and iter%report_every==0:\n",
        "            print(f\"Iteration {iter}.\\nThe best offspring has {pond[0].cost} in cost.\")\n",
        "    \n",
        "    return pond\n"
      ]
    },
    {
      "cell_type": "code",
      "execution_count": 114,
      "metadata": {},
      "outputs": [
        {
          "name": "stdout",
          "output_type": "stream",
          "text": [
            "Iteration 0.\n",
            "The best offspring has 1346212605.3234887 in cost.\n",
            "Iteration 100.\n",
            "The best offspring has 482901432.38545203 in cost.\n",
            "Iteration 200.\n",
            "The best offspring has 440985213.5969232 in cost.\n",
            "Iteration 300.\n",
            "The best offspring has 420054582.4052414 in cost.\n",
            "Iteration 400.\n",
            "The best offspring has 414600622.3219155 in cost.\n",
            "Iteration 500.\n",
            "The best offspring has 404888360.1101517 in cost.\n",
            "Iteration 600.\n",
            "The best offspring has 401570099.1025312 in cost.\n",
            "Iteration 700.\n",
            "The best offspring has 399306782.4949559 in cost.\n",
            "Iteration 800.\n",
            "The best offspring has 397418309.7983674 in cost.\n",
            "Iteration 900.\n",
            "The best offspring has 396669891.64221114 in cost.\n",
            "Iteration 1000.\n",
            "The best offspring has 396483268.9890292 in cost.\n",
            "Iteration 1100.\n",
            "The best offspring has 396021323.86042 in cost.\n",
            "Iteration 1200.\n",
            "The best offspring has 394756645.966318 in cost.\n",
            "Iteration 1300.\n",
            "The best offspring has 393062257.62707925 in cost.\n",
            "Iteration 1400.\n",
            "The best offspring has 391718877.5985999 in cost.\n",
            "Iteration 1500.\n",
            "The best offspring has 391718877.5985999 in cost.\n",
            "Iteration 1600.\n",
            "The best offspring has 391718877.5985999 in cost.\n",
            "Iteration 1700.\n",
            "The best offspring has 391552766.9204654 in cost.\n",
            "Iteration 1800.\n",
            "The best offspring has 389870544.34519184 in cost.\n",
            "Iteration 1900.\n",
            "The best offspring has 389870544.34519184 in cost.\n"
          ]
        }
      ],
      "source": [
        "pond = genetic_algorithm(transport_network_test, expansion_factor=20, pond_size=15, num_iter=2000, report_every=100, max_num_roads_to_remove=10)"
      ]
    },
    {
      "cell_type": "markdown",
      "metadata": {
        "id": "zrm-ONdAsxyb"
      },
      "source": []
    },
    {
      "cell_type": "code",
      "execution_count": 117,
      "metadata": {},
      "outputs": [
        {
          "data": {
            "image/png": "[encoded data removed]",
            "text/plain": [
              "<Figure size 432x288 with 1 Axes>"
            ]
          },
          "metadata": {
            "needs_background": "light"
          },
          "output_type": "display_data"
        }
      ],
      "source": [
        "pond[0].plot_map()"
      ]
    },
    {
      "cell_type": "code",
      "execution_count": 72,
      "metadata": {},
      "outputs": [
        {
          "data": {
            "text/plain": [
              "[3561299750.406417,\n",
              " 3561299750.406417,\n",
              " 3561299750.406417,\n",
              " 3561299750.406417,\n",
              " 3561299750.406417]"
            ]
          },
          "execution_count": 72,
          "metadata": {},
          "output_type": "execute_result"
        }
      ],
      "source": [
        "[net.calculate_cost() for net in pond]"
      ]
    },
    {
      "cell_type": "markdown",
      "metadata": {
        "id": "ors4dKfLCW2H"
      },
      "source": [
        "ideas to try:\n",
        "\n",
        "different sigma for training and for testing.\n",
        "\n",
        "increase in cost / length\n",
        "\n",
        "TODO:\n",
        "complexity analysis"
      ]
    }
  ],
  "metadata": {
    "colab": {
      "collapsed_sections": [],
      "name": "Simulation informatique et réseaux de transport.ipynb",
      "provenance": []
    },
    "kernelspec": {
      "display_name": "Python 3",
      "name": "python3"
    },
    "language_info": {
      "codemirror_mode": {
        "name": "ipython",
        "version": 3
      },
      "file_extension": ".py",
      "mimetype": "text/x-python",
      "name": "python",
      "nbconvert_exporter": "python",
      "pygments_lexer": "ipython3",
      "version": "3.9.7"
    }
  },
  "nbformat": 4,
  "nbformat_minor": 0
}

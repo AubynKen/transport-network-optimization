{
  "cells": [
    {
      "cell_type": "markdown",
      "metadata": {
        "id": "bXgCKcj7LWwr"
      },
      "source": [
        "# Computer simulation of transport networks.\n",
        "## Auteur: Pinglei He"
      ]
    },
    {
      "cell_type": "markdown",
      "metadata": {
        "id": "PQCSFV2FuI3w"
      },
      "source": [
        "## O Introduction\n",
        "\n",
        "### O.0 Motivation\n",
        "**English**:\n",
        "This Jupyter notebook is a recode of a project dedicated to the TIPE project for the French National Entrance Exam of engineering schools, in preparation for the Digital Tech Year. The study focuses on the optimization of a transport network, according to the models and the optimization objectives stated below.\n",
        "\n",
        "Simply put, we study the optimization of the performance of a transport network modeled as a non-oriented graph, with its nodes representing cites and the edges representing whether or not there is an direct route between two cities.\n",
        "\n",
        "### O.1 Notations\n",
        "$V$ : The number of cities\n",
        "\n",
        "$P_v$: The population of city $v \\in ⟦1 ... V⟧$"
      ]
    },
    {
      "cell_type": "markdown",
      "metadata": {
        "id": "4kLE-OQiLYvm"
      },
      "source": [
        "## I. The Model\n",
        "### I.1 City distributions\n",
        "According to the (empirical) [Zipf's Law](https://en.wikipedia.org/wiki/Zipf's_law), the populations count of the cities in a country follow the Zipf's distribution. That is to say, if we denote $V$ the total number of cities in a country, and $P_1 ... P_V$ the populations of single cities in the descendent order, we have: \n",
        "$$ \\mathbb{E}(\\frac{P_v}{P_1}) = \\frac{1}{v} $$\n",
        "\n",
        "To avoid unneccesary complexities in modeling the cities, we have chosen to omit the edge-case country shapes (such as the oblong Chile), nor do we consider differenc topologically unrelated/unconnected components of a country(such as Mainland US vs. Alaska) and we set the map to be a square-shape, with the position of the cities to distribute uniformely across the map.\n",
        "\n"
      ]
    },
    {
      "cell_type": "markdown",
      "metadata": {
        "id": "ofShd3LsLgyH"
      },
      "source": [
        "## Importing modules"
      ]
    },
    {
      "cell_type": "code",
      "execution_count": 1,
      "metadata": {
        "id": "TVh1JHUYLdlG"
      },
      "outputs": [],
      "source": [
        "import numpy as np\n",
        "import matplotlib.pyplot as plt\n",
        "import matplotlib.lines as lines\n",
        "import random as rd\n",
        "import scipy\n",
        "import scipy.sparse"
      ]
    },
    {
      "cell_type": "markdown",
      "metadata": {
        "id": "UP-rQb_DKeQU"
      },
      "source": [
        "The function below produces a 3 $\\times$ V matrix, with each column vector representing a city in the form of $[population, x position, y position]$.\n",
        "$$\\begin{pmatrix}\n",
        "pop_1 & ... & pop_v\\\\\n",
        "x_1 & ... & x_v\\\\\n",
        "y_1 & ... & y_v\n",
        "\\end{pmatrix}$$"
      ]
    },
    {
      "cell_type": "code",
      "execution_count": 3,
      "metadata": {
        "id": "6VUAjLfELtQV"
      },
      "outputs": [],
      "source": [
        "def generate_cities(tot_population, num_city, map_width):\n",
        "  \"\"\"Returns a (3, num_city) array representing the cities.\n",
        "  Each column contains [city_population, x-position, y_position]\n",
        "  \"\"\"\n",
        "  harmonic_arr = np.array([1/v for v in range(1, num_city + 1)])\n",
        "  harmonic_arr_normalized = harmonic_arr / harmonic_arr.sum()\n",
        "  population_arr = (tot_population * harmonic_arr_normalized).reshape((1, num_city))\n",
        "  position_arr = np.random.rand(2, num_city) * map_width\n",
        "  return np.concatenate((population_arr, position_arr), axis=0)"
      ]
    },
    {
      "cell_type": "markdown",
      "metadata": {
        "id": "Hn6JhAD94r6L"
      },
      "source": [
        "## I.2 Transport net representation\n",
        "In order to represent the edges of the graph, we use the dense representation with a boolean matrix. For the edge matrix M, M[i, j] is equal to true if and only if there is a road directly linking i with j. "
      ]
    },
    {
      "cell_type": "code",
      "execution_count": 4,
      "metadata": {
        "id": "kHhPP-wX4Ew4"
      },
      "outputs": [],
      "source": [
        "def initialize_roads(num_city, prop=0):\n",
        "  \"\"\"Returns a boolean array of shape (num_city, num_city) filled with False.\"\"\"\n",
        "  # randomly link cities with a probability of prop\n",
        "  if prop:\n",
        "    res = np.ramdom.rand(num_city, num_city) < prop\n",
        "    for i in range(num_city):\n",
        "      res[i, i] = True\n",
        "      for j in range(i):\n",
        "        res[i, j] = res[j, i]\n",
        "    return res\n",
        "  # if prop == 0\n",
        "  res = np.zeros((num_city, num_city), dtype=bool)\n",
        "  for i in range(num_city):\n",
        "    res[i, i] = True\n",
        "  return res"
      ]
    },
    {
      "cell_type": "code",
      "execution_count": 5,
      "metadata": {
        "id": "6oPoA0dbKXF4"
      },
      "outputs": [],
      "source": [
        "def plot_map(city_arr, road_matrix=None, map_width=None):\n",
        "  \"\"\"Plots the map of the region\"\"\"\n",
        "  V = city_arr.shape[1]\n",
        "\n",
        "  # plots the cities\n",
        "  plt.scatter(city_arr[1, :], \n",
        "              city_arr[2, :], \n",
        "              s=city_arr[0, :], \n",
        "              c=np.random.rand(V,3)*0.7 + 0.3)\n",
        "  \n",
        "  # plots roads, if any\n",
        "  if road_matrix is not None:\n",
        "    connected_pairs = [(i, j) for i in range(V) for j in range(i) if road_matrix[i, j]]\n",
        "    for i, j in connected_pairs:\n",
        "      plt.plot([city_arr[1, i], city_arr[1, j]], \n",
        "              [city_arr[2, i], city_arr[2, j]],\n",
        "              \"g\", linestyle=\"-\")\n",
        "    \n",
        "  # add padding to the plot\n",
        "  if map_width is not None:\n",
        "    padding = map_width/25\n",
        "    plt.xlim(0 - padding, map_width + padding)\n",
        "    plt.ylim(0 - padding, map_width + padding)\n",
        "\n",
        "  # set x and y axis to be equal shape\n",
        "  plt.gca().set_aspect('equal', adjustable='box')\n",
        "\n",
        "  plt.show()"
      ]
    },
    {
      "cell_type": "markdown",
      "metadata": {
        "id": "WzNQzazqOhUY"
      },
      "source": [
        "Let's visualize a randomly generated map:"
      ]
    },
    {
      "cell_type": "code",
      "execution_count": 6,
      "metadata": {
        "colab": {
          "base_uri": "https://localhost:8080/",
          "height": 265
        },
        "id": "l6spVvuPLuen",
        "outputId": "9092f13f-44e4-4016-c5f0-99c85b31b454"
      },
      "outputs": [
        {
          "data": {
            "image/png": "[encoded data removed]",
            "text/plain": [
              "<Figure size 432x288 with 1 Axes>"
            ]
          },
          "metadata": {
            "needs_background": "light"
          },
          "output_type": "display_data"
        }
      ],
      "source": [
        "# seeds numpy.random for consistency\n",
        "np.random.seed(60)\n",
        "\n",
        "# params\n",
        "tot_population = 2000\n",
        "num_city = 20\n",
        "map_width = 200\n",
        "\n",
        "# generate a random city\n",
        "city_arr = generate_cities(tot_population, num_city, map_width)\n",
        "\n",
        "plot_map(city_arr)"
      ]
    },
    {
      "cell_type": "markdown",
      "metadata": {},
      "source": [
        "If we compare the map of France to a randomly generated map using the above-mentioned method, we can see that our model produces maps that are quite similar to actual maps:\n",
        "\n",
        "#### The population distribution of France\n",
        "<img src=\"./images/france_city_distribution.png\" alt=\"french_city_distribution\" width=\"60% vw\">\n",
        "\n",
        "#### A randomly generated population distribution\n",
        "<img src=\"./images/zipf_generated_distribution.png\" alt=\"simulated_distribution\" width=\"40% vw\">"
      ]
    },
    {
      "cell_type": "markdown",
      "metadata": {
        "id": "WwygCI8iO-nf"
      },
      "source": [
        "## II Optimization objectives\n",
        "Before carrying out optimizations, we shall defined the optimization objectives. \n",
        "\n",
        "We assume that the probability that one person leaves his city is independent with respect to the city. We thus natually have that, the outgoing flow of population of a given city is proportional to the size of the city:\n",
        "$$flow_{out}(v) \\propto pop_v$$\n",
        "\n",
        "And when it comes to ingoing population, the more population a city has, the more businesses it has, and the more attractive it is. We may assume that the ingoing population flow is somewhat proportional to its total population. :\n",
        "$$ flow_{in}(v) \\propto pop_v$$\n",
        "\n",
        "If we ignoge the change in total population of the country, the above two proportionality constants must be equal.\n",
        "$$ flow_{in}(v) = flow_{out}(v)$$\n",
        "\n",
        "In this model, we assume that the relative geometrical distance between two cities does not affect the flow of population between the twto cities:\n",
        "\n",
        "$$ flow(i, j) \\propto pop_{i} \\times pop_{j} $$\n",
        "\n",
        "Since we're modeling the network as a weighted graph, let's define the weights of the edges:\n",
        "\n",
        "if $M[i,j]$ :   $w(i,j) = d(i, j)$\n",
        "\n",
        "if $not M[i,j]$ : $w(i,j) = \\sigma \\times d(i, j)$\n",
        "\n",
        "The weight of an edge between two nodes (i,j) is defined as the cost for one unit of population to go from city i to city j (and vice versa). If there is a road between the two, we set it to be the geometric distance between the two cities. If there isn't one, we penalize the travel cost by multiply the distance with a smoothing constant $\\sigma >> 1$to avoid infinities (which would be problematic for optimizations). Let's say that between two cities, there is no direct road. We suppose that traveling between the two cities would be sigma times more difficult than if there was a road (instead of considering that such a scenario is impossible).\n",
        "\n",
        "The following equations should be pretty natual and straight-forward:\n",
        "\n",
        "The weight of a path:\n",
        "$$ w(v_1, v_2 ... v_p) = \\sum_{k=1}^{p-1}w(v_k, v_k+1) $$\n",
        "\n",
        "The distance by road (or graph distance) between two cities:\n",
        "$$ \\delta(i,j) = min_{\\text{path between i and j}}(w(path))$$\n",
        "\n",
        "The optimization objective to minimize is the total cost of transportation for the whole region/country:\n",
        "$$ cost(M) = \\sum_{1 < i, j < V} \\delta(i,j) \\times flow(i, j)$$"
      ]
    },
    {
      "cell_type": "markdown",
      "metadata": {
        "id": "xSEZrI5nL7_x"
      },
      "source": [
        "### Graph distance calculation\n",
        "In order to calculate the $\\delta(i,j)$s, we use the Floyd-Warshall algorithm. Since one floyd-warshall takes $O(n^3)$ to run, in order to take advantage of the multiprocessing power of the computer and the speed of a lower-level implementation, we will use the scipy module to do the Floyd-Warshall calculation."
      ]
    },
    {
      "cell_type": "code",
      "execution_count": 7,
      "metadata": {
        "id": "hMTeIVZ2O-NW"
      },
      "outputs": [],
      "source": [
        "\n",
        "def distance_matrix(city_arr):\n",
        "  \"\"\"Returns a matrix representing the geometric distances between cities\"\"\"\n",
        "  V = city_arr.shape[1]\n",
        "  res = np.zeros((V, V))\n",
        "\n",
        "  # compute the distance between \n",
        "  def get_distance(i, j):\n",
        "    dx = city_arr[1, i] - city_arr[1, j]\n",
        "    dy = city_arr[2, i] - city_arr[2, j]\n",
        "    return np.sqrt(dx * dx + dy * dy)\n",
        "\n",
        "  for i in range(V):\n",
        "    res[i, i] = 0\n",
        "    for j in range(i):\n",
        "      d_ij = get_distance(i, j)\n",
        "      res[i, j] = d_ij\n",
        "      res[j, i] = d_ij\n",
        "  return res\n",
        "\n",
        "def floyd_warshall(city_arr, road_matrix, sigma=10):\n",
        "  \"\"\"Returns a matrix distances the same dimensions as the road_matrix, where\n",
        "  distances[i,j] = the cost of the shortest path between the city i and city j\"\"\"\n",
        "  V = city_arr.shape[1]\n",
        "  geo_distance = distance_matrix(city_arr)\n",
        "  M0 = geo_distance * sigma # matrix of infinities\n",
        "  M0[road_matrix] = geo_distance[road_matrix]\n",
        "  return scipy.sparse.csgraph.floyd_warshall(M0, directed=False)"
      ]
    },
    {
      "cell_type": "markdown",
      "metadata": {
        "id": "4TEIi0FxXj72"
      },
      "source": [
        "Now let's defined a cost function according to equations above. This function takes in input the delta_map calculated by the floyd_warshall function, and outputs the cost of the transport network. Our objective in the sections below would be to lower the cost function."
      ]
    },
    {
      "cell_type": "code",
      "execution_count": 8,
      "metadata": {
        "id": "KPp9UNbsdp83"
      },
      "outputs": [],
      "source": [
        "def get_pop_flow(city_arr):\n",
        "  \"\"\"Returns a matrix pop_flow where pop_flow[i, j] is the product of \n",
        "  populations of cities i and j\"\"\"\n",
        "  population_arr = city_arr[[0], :]\n",
        "  print(population_arr.shape)\n",
        "  return population_arr * population_arr.T"
      ]
    },
    {
      "cell_type": "code",
      "execution_count": 10,
      "metadata": {
        "id": "N4biFkz5TA8L"
      },
      "outputs": [],
      "source": [
        "def cost(city_arr, delta_map, pop_flow=None):\n",
        "  \"\"\"Returns the total cost of transportation of the network\"\"\"\n",
        "  if pop_flow is None:\n",
        "    pop_flow = get_pop_flow(city_arr)\n",
        "  return (pop_flow * delta_map).sum() / 2"
      ]
    },
    {
      "cell_type": "markdown",
      "metadata": {},
      "source": [
        "### II.3 Restructuring\n",
        "The following code block simply encapsulates the code above into a TransportNetwork class, which includes information about the the network, including the positions and the populations of the cities, the map width, and the connections between them. We also added type hint for easier debugging purpopses."
      ]
    },
    {
      "cell_type": "code",
      "execution_count": 75,
      "metadata": {},
      "outputs": [],
      "source": [
        "class TransportNetwork():\n",
        "    \n",
        "    def __init__(self, tot_population: int, num_city: int, map_width=100, cities=None):\n",
        "        self.tot_population = tot_population\n",
        "        self.num_city = num_city\n",
        "        self.map_width = map_width\n",
        "        self.cities =  self.generate_cities() if cities is None else cities\n",
        "        self.pop_flow = self.get_pop_flow()\n",
        "        self.roads = self.initialize_roads()\n",
        "        self.distance_matrix = self.get_distance_matrix()\n",
        "        self.shortest_path_distances = self.get_shortest_path_distances()\n",
        "\n",
        "    def generate_copy(self) -> \"TransportNetwork\":\n",
        "        \"\"\"Generates a copy of the transport network, only with empty roads.\"\"\"\n",
        "        return TransportNetwork(tot_population=self.tot_population, \n",
        "                                num_city=self.num_city,\n",
        "                                map_width=self.map_width,\n",
        "                                cities=self.cities)\n",
        "        \n",
        "    def generate_cities(self) -> np.array:\n",
        "        \"\"\"Randomly generates information about the coordinates and the populations of thecities\"\"\"\n",
        "        harmonic_arr = np.array([1/v for v in range(1, self.num_city + 1)])\n",
        "        harmonic_arr_normalized = harmonic_arr / harmonic_arr.sum()\n",
        "        population_arr = (self.tot_population * harmonic_arr_normalized).reshape((1, self.num_city))\n",
        "        position_arr = np.random.rand(2, self.num_city) * self.map_width\n",
        "        return np.concatenate((population_arr, position_arr), axis=0)\n",
        "\n",
        "    def initialize_roads(self) -> np.array:\n",
        "        \"\"\"Initializes the road matrix with no roads\"\"\"\n",
        "        res = np.zeros((self.num_city, self.num_city), dtype=bool)\n",
        "        for i in range(self.num_city):\n",
        "            res[i, i] = True\n",
        "        return res\n",
        "\n",
        "    def get_distance_matrix(self) -> np.array:\n",
        "        \"\"\"Returns a distance matrix M where M[i, j] represents the geometric distance between city i and j\"\"\"\n",
        "        res = np.zeros((self.num_city, self.num_city))\n",
        "\n",
        "        def get_distance(i, j):\n",
        "            dx = self.cities[1, i] - self.cities[1, j]\n",
        "            dy = self.cities[2, i] - self.cities[2, j]\n",
        "            return np.sqrt(dx * dx + dy * dy)\n",
        "\n",
        "        for i in range(self.num_city):\n",
        "            res[i, i] = 0\n",
        "            for j in range(i):\n",
        "                d_ij = get_distance(i, j)\n",
        "                res[i, j] = d_ij\n",
        "                res[j, i] = d_ij\n",
        "        return res\n",
        "\n",
        "    def get_pop_flow(self) -> np.array:\n",
        "        \"\"\"Returns a matrix pop_flow where pop_flow[i, j] is the product of \n",
        "        populations of cities i and j\"\"\"\n",
        "        population_arr = self.cities[[0], :]\n",
        "        print(population_arr.shape)\n",
        "        return population_arr * population_arr.T\n",
        "\n",
        "    def get_shortest_path_distances(self, sigma=10.0) -> np.array:\n",
        "        \"\"\"Returns a matrix distances the same dimensions as the road_matrix, where\n",
        "        distances[i,j] = the cost of the shortest path between the city i and city j\"\"\"\n",
        "        M0 = self.distance_matrix * sigma # matrix of infinities\n",
        "        M0[self.roads] = self.distance_matrix[self.roads]\n",
        "        return scipy.sparse.csgraph.floyd_warshall(M0, directed=False)\n",
        "\n",
        "    def update_shortest_path_distances(self, sigma=10) -> None:\n",
        "        self.shortest_path_distances = self.get_shortest_path_distances(sigma=sigma)\n",
        "\n",
        "    def calculate_cost(self) -> float:\n",
        "        \"\"\"Returns the total cost of transportation of the network\"\"\"\n",
        "        return (self.pop_flow * self.shortest_path_distances).sum() / 2\n",
        "\n",
        "    def plot_map(self) -> None:\n",
        "        \"\"\"Plots the map of the region\"\"\"\n",
        "        V = self.num_city\n",
        "        city_arr = self.cities\n",
        "        road_matrix = self.roads\n",
        "        map_width = self.map_width\n",
        "\n",
        "        # plots the cities\n",
        "        plt.scatter(city_arr[1, :], \n",
        "                    city_arr[2, :], \n",
        "                    s=city_arr[0, :], \n",
        "                    c=np.random.rand(V,3)*0.7 + 0.3)\n",
        "  \n",
        "        # plots roads, if any\n",
        "        if road_matrix is not None:\n",
        "            connected_pairs = [(i, j) for i in range(V) for j in range(i) if road_matrix[i, j]]\n",
        "            for i, j in connected_pairs:\n",
        "                plt.plot([city_arr[1, i], city_arr[1, j]], \n",
        "                        [city_arr[2, i], city_arr[2, j]],\n",
        "                        \"g\", linestyle=\"-\")\n",
        "    \n",
        "        # add padding to the plot\n",
        "        if map_width is not None:\n",
        "            padding = map_width/25\n",
        "            plt.xlim(0 - padding, map_width + padding)\n",
        "            plt.ylim(0 - padding, map_width + padding)\n",
        "\n",
        "        # set x and y axis to be equal shape\n",
        "        plt.gca().set_aspect('equal', adjustable='box')\n",
        "\n",
        "        plt.show()\n",
        "    \n",
        "    def add_road(self, i: int, j: int) -> None:\n",
        "        self.roads[i, j] = self.roads[j, i] = True\n",
        "        self.update_shortest_path_distances()\n",
        "\n",
        "    def remove_road(self, i: int, j: int) -> None:\n",
        "        self.roads[i, j] = self.roads[j, i] = False\n",
        "        self.update_shortest_path_distances()"
      ]
    },
    {
      "cell_type": "markdown",
      "metadata": {
        "id": "WSMgtg0MfVGw"
      },
      "source": [
        "## III Algorithms\n",
        "### III.0 Naive algorithm.\n",
        "Before trying out sophisticated algorithms, let's first assess the possibility of applying the naive algorithm.\n",
        "\n",
        "The naive algorithm consists of testing all the possible networks, keep those that are respect the requirement of the total length of roads, and then choosing the one that is optimal.\n",
        "\n",
        "The total number of possible edges is $\\frac{(V-1) \\times (V-1))}{2} = O(V^2)$. Since for each edge, there are two possibilities of whether there is a road or not, the total number of possible configurations is $O(2^{V^2})$. Without even taking into account the calculation of the cost function, the complexity is already exponential, thus we reject the naive algorithm.\n",
        "\n"
      ]
    },
    {
      "cell_type": "markdown",
      "metadata": {
        "id": "8LOdML_GhxYs"
      },
      "source": [
        "### III.2.a Greedy Algorithm\n",
        "The greedy algorithm runs as follows:\n",
        "We start with a graph with no roads constructed. While the total length of roads we have constructed is less than the allowed length, we test out all the possible roads that may be constructed, and choose the one that contributes the most to decreasing the cost function."
      ]
    },
    {
      "cell_type": "code",
      "execution_count": 76,
      "metadata": {
        "id": "3kH6htfHhwlx"
      },
      "outputs": [],
      "source": [
        "def greedy_algorithm(transport_network: TransportNetwork, max_road_length: float, verbose=True):\n",
        "  curr_road_length = 0\n",
        "  step_count = 0\n",
        "  cache = {}\n",
        "  \n",
        "  curr_cost = transport_network.calculate_cost()\n",
        "\n",
        "  if verbose:\n",
        "    print(f\"Step 0: The initial cost is {curr_cost}\")\n",
        "\n",
        "\n",
        "  while True: # breaks if adding any more road makes total road length reach the max allowed\n",
        "\n",
        "    step_count += 1\n",
        "    curr_best_road = None\n",
        "    curr_best_cost = np.inf\n",
        "\n",
        "    for i in range(transport_network.num_city):\n",
        "      for j in range(i):\n",
        "\n",
        "        if transport_network.roads[i, j] or transport_network.distance_matrix[i, j] > max_road_length - curr_road_length:\n",
        "          continue\n",
        "\n",
        "        transport_network.add_road(i, j)\n",
        "        new_cost = transport_network.calculate_cost()\n",
        "        \n",
        "        if new_cost < curr_best_cost:\n",
        "          curr_best_cost, curr_best_road = new_cost, (i, j)\n",
        "        transport_network.remove_road(i,j)\n",
        "    \n",
        "    if curr_best_road is None: # no new road found\n",
        "      print(f\"The algorithm finished at step {step_count}\")\n",
        "      print(f\"The cost obtained is {curr_cost}\")\n",
        "      break\n",
        "    \n",
        "    curr_cost = curr_best_cost\n",
        "    i, j = curr_best_road\n",
        "    transport_network.add_road(i, j)\n",
        "    curr_road_length += transport_network.distance_matrix[i, j]\n",
        "    if verbose:\n",
        "      print(f\"Step {step_count}: The current cost is {curr_best_cost}\")\n",
        "  \n",
        "  cache[\"cost\"] = curr_cost"
      ]
    },
    {
      "cell_type": "markdown",
      "metadata": {
        "id": "JK-SO-DbpIOl"
      },
      "source": [
        "Let's plot the cities to see what out test exeample looks like."
      ]
    },
    {
      "cell_type": "code",
      "execution_count": 95,
      "metadata": {
        "colab": {
          "base_uri": "https://localhost:8080/",
          "height": 265
        },
        "id": "oc4VlJN3pA8G",
        "outputId": "e373c14a-890e-4c73-8b6c-31b3e2697c8b"
      },
      "outputs": [
        {
          "name": "stdout",
          "output_type": "stream",
          "text": [
            "(1, 30)\n"
          ]
        },
        {
          "data": {
            "image/png": "[encoded data removed]",
            "text/plain": [
              "<Figure size 432x288 with 1 Axes>"
            ]
          },
          "metadata": {
            "needs_background": "light"
          },
          "output_type": "display_data"
        }
      ],
      "source": [
        "\"\"\"\n",
        "total population: 800\n",
        "number of cities: 30\n",
        "allowed road length: 100000\n",
        "map width: 100\n",
        "\"\"\"\n",
        "np.random.seed(3) # for consistency\n",
        "transport_network_test = TransportNetwork(tot_population=4000, num_city=30)\n",
        "transport_network_test.plot_map()"
      ]
    },
    {
      "cell_type": "markdown",
      "metadata": {
        "id": "X8-mQ7noHbxA"
      },
      "source": [
        "Side note:\n",
        "The total oppulation doesn't actually change the output, since all operation are liner."
      ]
    },
    {
      "cell_type": "markdown",
      "metadata": {
        "id": "_RHIBXSMIVeU"
      },
      "source": [
        "Let's create a network with the greedy algorithm."
      ]
    },
    {
      "cell_type": "code",
      "execution_count": 96,
      "metadata": {
        "colab": {
          "base_uri": "https://localhost:8080/"
        },
        "id": "15cMYmerpVsd",
        "outputId": "296716c0-980b-414f-a43a-2507cfd199bc"
      },
      "outputs": [
        {
          "name": "stdout",
          "output_type": "stream",
          "text": [
            "(1, 30)\n",
            "Step 0: The initial cost is 3597877462.1525\n",
            "Step 1: The current cost is 2981198747.4625177\n",
            "Step 2: The current cost is 2619179611.6833367\n",
            "Step 3: The current cost is 2273638980.891385\n",
            "Step 4: The current cost is 1960802274.1693933\n",
            "Step 5: The current cost is 1691762483.3937821\n",
            "Step 6: The current cost is 1531706112.2519474\n",
            "Step 7: The current cost is 1377382246.7849102\n",
            "Step 8: The current cost is 1246272600.9449055\n",
            "Step 9: The current cost is 1125968315.1361244\n",
            "Step 10: The current cost is 1011679300.1323774\n",
            "Step 11: The current cost is 935802384.619309\n",
            "Step 12: The current cost is 874570110.3948181\n",
            "Step 13: The current cost is 828455535.1957718\n",
            "Step 14: The current cost is 786837136.5108685\n",
            "Step 15: The current cost is 752972052.9771514\n",
            "Step 16: The current cost is 721955520.3027048\n",
            "Step 17: The current cost is 694707413.9310703\n",
            "Step 18: The current cost is 668781710.4709902\n",
            "Step 19: The current cost is 641507258.051141\n",
            "Step 20: The current cost is 620057986.9418797\n",
            "Step 21: The current cost is 598826313.7145504\n",
            "Step 22: The current cost is 579036584.9919293\n",
            "Step 23: The current cost is 561179210.4089872\n",
            "Step 24: The current cost is 544685904.3588057\n",
            "Step 25: The current cost is 530059655.9006609\n",
            "Step 26: The current cost is 516008256.88638073\n",
            "Step 27: The current cost is 503377860.1691811\n",
            "Step 28: The current cost is 490810982.6547546\n",
            "Step 29: The current cost is 478853660.34068036\n",
            "Step 30: The current cost is 469994911.85812855\n",
            "The algorithm finished at step 31\n",
            "The cost obtained is 469994911.85812855\n"
          ]
        }
      ],
      "source": [
        "transport_network_test_1 = transport_network_test.generate_copy()\n",
        "greedy_algorithm(transport_network_test_1, max_road_length=800, verbose=True)"
      ]
    },
    {
      "cell_type": "markdown",
      "metadata": {
        "id": "PmpOSaLsIar7"
      },
      "source": [
        "We can see that the cost is decreasing with every iteration, with means our algorithm is working. Let's visualize and analyse the result:"
      ]
    },
    {
      "cell_type": "code",
      "execution_count": 97,
      "metadata": {
        "colab": {
          "base_uri": "https://localhost:8080/",
          "height": 265
        },
        "id": "fI0p5bQdtUA9",
        "outputId": "f55ff8a5-8469-44b1-ea1d-1ab3cedd085d"
      },
      "outputs": [
        {
          "data": {
            "image/png": "[encoded data removed]",
            "text/plain": [
              "<Figure size 432x288 with 1 Axes>"
            ]
          },
          "metadata": {
            "needs_background": "light"
          },
          "output_type": "display_data"
        }
      ],
      "source": [
        "transport_network_test_1.plot_map()"
      ]
    },
    {
      "cell_type": "markdown",
      "metadata": {
        "id": "V92lCoLEIDv-"
      },
      "source": [
        "### III.2.b Greedy algorithm II\n",
        "\n",
        "#### Analysis of the previous algorithm\n",
        "We notice a problem here: As we can see from the visualization, what our algorithm is essentially doing is linking up the smaller cities to the few bigger ones, resulting in a star-shaped (or multi-cluster star-shaped) structure. The problem is that although some roads between smaller cities have very low costs, they also contribute relatively less to decreasing the cost function. \n",
        "\n",
        "\n",
        "#### Greedy algorithm II\n",
        "We can hope to solve the problem by choosing to create, at each step, not the road that decreasese the cost function the most, but the one that decreases the cost function the most **per unit of length**. We slightly adjust the greedy algorithm:"
      ]
    },
    {
      "cell_type": "code",
      "execution_count": 80,
      "metadata": {
        "id": "pRWL90QzKHX1"
      },
      "outputs": [],
      "source": [
        "def greedy_algorithm_2(transport_network: TransportNetwork, max_road_length, sigma=10, verbose=True):\n",
        "  curr_road_length = 0\n",
        "  step_count = 0\n",
        "  cache = {}\n",
        "  \n",
        "  curr_cost = transport_network.calculate_cost()\n",
        "  if verbose:\n",
        "    print(f\"Step 0: The initial cost is {curr_cost}\")\n",
        "\n",
        "  while True: # breaks if no new road that satisfies curr_road_length < max_road_length is found\n",
        "    step_count += 1\n",
        "    curr_best_road = None\n",
        "    # This line is changed:\n",
        "    curr_best_cost_per_length = -np.inf\n",
        "    curr_best_cost = np.inf\n",
        "\n",
        "    for i in range(transport_network.num_city):\n",
        "      for j in range(i):\n",
        "\n",
        "        if transport_network.roads[i, j] or transport_network.distance_matrix[i, j] > max_road_length - curr_road_length:\n",
        "          continue\n",
        "\n",
        "        transport_network.add_road(i, j)\n",
        "        new_cost = transport_network.calculate_cost()\n",
        "        # The line below is changed:\n",
        "        cost_per_length = (curr_cost - new_cost) / transport_network.distance_matrix[i, j]\n",
        "        \n",
        "        if cost_per_length > curr_best_cost_per_length:\n",
        "          curr_best_cost_per_length, curr_best_road = cost_per_length, (i, j)\n",
        "          curr_best_cost = new_cost\n",
        "\n",
        "        transport_network.remove_road(i,j)\n",
        "    \n",
        "    if curr_best_road is None:\n",
        "      print(f\"Step {step_count}: The current cost is {curr_best_cost}\",\n",
        "            f\"Road length {curr_road_length}/{max_road_length}\")\n",
        "      print(f\"The algorithm finished at step {step_count}\")\n",
        "      print(f\"The cost obtained is {curr_cost}\")\n",
        "      break\n",
        "    \n",
        "    curr_cost = curr_best_cost\n",
        "    i, j = curr_best_road\n",
        "    transport_network.add_road(i, j)\n",
        "    curr_road_length += transport_network.distance_matrix[i, j]\n",
        "    if verbose:\n",
        "      print(f\"Step {step_count}: The current cost is {curr_best_cost}\",\n",
        "            f\"Road length {curr_road_length}/{max_road_length}\")\n",
        "    \n",
        "  cache[\"cost\"] = curr_cost"
      ]
    },
    {
      "cell_type": "markdown",
      "metadata": {
        "id": "3eLFNglfRIQQ"
      },
      "source": [
        "We can see that the final cost is dramatically smaller than what we get from the previous implementation. However, it took a lot more steps to train than the previous one. We may explain this by the fact that the second algorithm interests itself a lot more in connections between the neighboring smaller cities, since its goal in each step is not to find the road that has the most **per-unit-length** cost reduction. Let's have a look at the end result here:"
      ]
    },
    {
      "cell_type": "code",
      "execution_count": 99,
      "metadata": {
        "colab": {
          "base_uri": "https://localhost:8080/",
          "height": 265
        },
        "id": "x-1IYh5RM3EX",
        "outputId": "538dc2a4-d9a2-43f1-93df-fbfee6662a4b"
      },
      "outputs": [
        {
          "name": "stdout",
          "output_type": "stream",
          "text": [
            "(1, 30)\n",
            "Step 0: The initial cost is 3597877462.1525\n",
            "Step 1: The current cost is 3334766836.346578 Road length 13.623974377697039/800\n",
            "Step 2: The current cost is 2890712287.372677 Road length 39.890198437676474/800\n",
            "Step 3: The current cost is 2544031080.725457 Road length 61.59551551942224/800\n",
            "Step 4: The current cost is 2246276150.906467 Road length 83.56652408074734/800\n",
            "Step 5: The current cost is 2181276207.2942724 Road length 87.97852157934749/800\n",
            "Step 6: The current cost is 2019989940.562741 Road length 102.10319884943262/800\n",
            "Step 7: The current cost is 1764138145.5100813 Road length 124.82423823791135/800\n",
            "Step 8: The current cost is 1518246709.3374949 Road length 148.03181847426748/800\n",
            "Step 9: The current cost is 1368577001.621847 Road length 169.28663979980317/800\n",
            "Step 10: The current cost is 1294927339.5035415 Road length 180.66038759889122/800\n",
            "Step 11: The current cost is 1157678702.1409783 Road length 204.4103869363807/800\n",
            "Step 12: The current cost is 1084787253.805427 Road length 216.98083245113114/800\n",
            "Step 13: The current cost is 922245827.4965782 Road length 246.3626198880457/800\n",
            "Step 14: The current cost is 848588887.2432727 Road length 262.4386014894643/800\n",
            "Step 15: The current cost is 839940805.955837 Road length 264.80680866974774/800\n",
            "Step 16: The current cost is 806938137.8537557 Road length 273.9475987960234/800\n",
            "Step 17: The current cost is 763166853.1513188 Road length 287.1191214496038/800\n",
            "Step 18: The current cost is 747321025.8778596 Road length 292.1062416238465/800\n",
            "Step 19: The current cost is 728783640.029132 Road length 299.75813930133125/800\n",
            "Step 20: The current cost is 710766454.3362767 Road length 307.8970418781083/800\n",
            "Step 21: The current cost is 685597184.8989393 Road length 320.07630840028224/800\n",
            "Step 22: The current cost is 676522124.652868 Road length 324.8740476911497/800\n",
            "Step 23: The current cost is 644087755.3134124 Road length 344.4499297580033/800\n",
            "Step 24: The current cost is 603033350.6304867 Road length 362.41619973372445/800\n",
            "Step 25: The current cost is 589934170.3777905 Road length 370.5032357088488/800\n",
            "Step 26: The current cost is 564188334.1785822 Road length 387.82629134509466/800\n",
            "Step 27: The current cost is 551480647.2694945 Road length 396.729154898682/800\n",
            "Step 28: The current cost is 539616334.8962204 Road length 406.0296742077847/800\n",
            "Step 29: The current cost is 529354788.0901592 Road length 414.3574420283517/800\n",
            "Step 30: The current cost is 502087389.09369946 Road length 437.2427480650044/800\n",
            "Step 31: The current cost is 475209181.2438408 Road length 471.1526085230863/800\n",
            "Step 32: The current cost is 456783317.6805171 Road length 492.3188184296846/800\n",
            "Step 33: The current cost is 446647289.4549701 Road length 512.0704673431605/800\n",
            "Step 34: The current cost is 434418589.1033636 Road length 535.3850407024638/800\n",
            "Step 35: The current cost is 429137168.25437176 Road length 554.2600557282769/800\n",
            "Step 36: The current cost is 425048836.9646069 Road length 572.7272956761722/800\n",
            "Step 37: The current cost is 421320896.01148677 Road length 590.2779681450685/800\n",
            "Step 38: The current cost is 419953131.2057101 Road length 596.7375757235104/800\n",
            "Step 39: The current cost is 415106389.5639089 Road length 621.7128831517088/800\n",
            "Step 40: The current cost is 409286260.41343397 Road length 655.90924114302/800\n",
            "Step 41: The current cost is 403848628.87876314 Road length 690.6678337552723/800\n",
            "Step 42: The current cost is 400651405.80678546 Road length 715.339131665706/800\n",
            "Step 43: The current cost is 398263421.6869976 Road length 734.3782257584143/800\n",
            "Step 44: The current cost is 395140411.3169143 Road length 761.3776765629545/800\n",
            "Step 45: The current cost is 392651340.4192699 Road length 784.4779371720856/800\n",
            "Step 46: The current cost is 392179815.00361025 Road length 793.1308578160869/800\n",
            "Step 47: The current cost is inf Road length 793.1308578160869/800\n",
            "The algorithm finished at step 47\n",
            "The cost obtained is 392179815.00361025\n"
          ]
        }
      ],
      "source": [
        "transport_network_test_2= transport_network_test.generate_copy()\n",
        "greedy_algorithm_2(transport_network_test_2, max_road_length=800)"
      ]
    },
    {
      "cell_type": "markdown",
      "metadata": {
        "id": "mS3QFIGRMvgi"
      },
      "source": [
        "plot_map(city_arr_test, road_matrix=road_matrix_test, map_width=map_width_test)"
      ]
    },
    {
      "cell_type": "markdown",
      "metadata": {},
      "source": [
        "We can see that the cost yielded by the new algorithm is significantly smaller than that of the first greedy algorithm. Let's have a look at the new network generated by our algorithm:"
      ]
    },
    {
      "cell_type": "code",
      "execution_count": 100,
      "metadata": {},
      "outputs": [
        {
          "name": "stdout",
          "output_type": "stream",
          "text": [
            "The new cost is 392179815.00361025\n"
          ]
        },
        {
          "data": {
            "image/png": "[encoded data removed]",
            "text/plain": [
              "<Figure size 432x288 with 1 Axes>"
            ]
          },
          "metadata": {
            "needs_background": "light"
          },
          "output_type": "display_data"
        }
      ],
      "source": [
        "print(f\"The new cost is {transport_network_test_2.calculate_cost()}\")\n",
        "transport_network_test_2.plot_map()"
      ]
    },
    {
      "cell_type": "markdown",
      "metadata": {
        "id": "1fv4oMEKMKFN"
      },
      "source": [
        "## III.3 Backward removal\n",
        "\n",
        "### Context\n",
        "In order to find better inspiration for the algorithms, we are going to look at a monocellular creature, called Physarum polycephalum, also commonly known as \"the blob\". One surprising fact about the creature is that it is a natural path finder. When given food on a flat surface, such as oatmeals for example, where each oatmeal piece is equivalent to a city, with its size proportional to the sizes of the cities, the creature can actually links between the oatmeals and produces a network which is very close to that of an optimized transportation network. More information about this creature can be found <a href=\"https://www.researchgate.net/figure/Comparison-of-the-Physarum-networks-with-the-Tokyo-rail-network-A-In-the-absence-of_fig2_41111573\">in this paper</a>.\n",
        "\n",
        "\n",
        "Below is a picture showing the blob recreating the Tokyo subway system:\n",
        "\n",
        "<img src=\"./images/polysepharum_demonstration.png\" width=\"40% vw\" alt=\"polycepharum-reproducing-tokyo-map\"/>\n",
        "\n",
        " We decided to buy some of polycephalum and observed the behavior of this creature. Below are images that we've taken for one week of observation.\n",
        "\n",
        "<img src=\"./images/observations/day_1.png\" width=\"30% vw\" alt=\"day-1-observation\"/>\n",
        "<img src=\"./images/observations/day_2.png\" width=\"30% vw\" alt=\"day-2-observation\"/>\n",
        "<img src=\"./images/observations/day_3.png\" width=\"30% vw\" alt=\"day-3-observation\"/>\n",
        "<img src=\"./images/observations/day_4.png\" width=\"30% vw\" alt=\"day-4-observation\"/>\n",
        "<img src=\"./images/observations/day_5.png\" width=\"30% vw\" alt=\"day-5-observation\"/>\n",
        "<img src=\"./images/observations/day_6.png\" width=\"30% vw\" alt=\"day-6-observation\"/>\n",
        "\n",
        "What we observe is that the blob initially tries to create as many links as possible between the cities, as you can see from the first pictures. After having reached all the cities, the blob actually removes little by little the ones that are less used, only keeping links where the \"trafic\" is the most affluent, as you can see from the last two pictures.\n",
        "\n",
        "We've decided to take inspiration directly from the blob, and instead of adding the roads little by little, we start with a dense network, where between each pair of cities there is a direct road. Then, we remove the cities little by little, until the max_road_length restriction is satisfied."
      ]
    },
    {
      "cell_type": "markdown",
      "metadata": {},
      "source": [
        "We can imagine at least one case where the backward_removal algorithm is better than the previous greedy algorithm. Let's imagine that we have three cities, with two major cities and one smaller city:"
      ]
    },
    {
      "cell_type": "code",
      "execution_count": 107,
      "metadata": {
        "id": "1w2l4_KUELds"
      },
      "outputs": [],
      "source": [
        "def backward_removal(transport_network: TransportNetwork, max_road_length: float, verbose=True, report_every=10):\n",
        "  transport_network.roads = np.ones((transport_network.num_city, transport_network.num_city), dtype=bool)\n",
        "  transport_network.update_shortest_path_distances()\n",
        "  step_count = 0\n",
        "  curr_road_length = transport_network.distance_matrix.sum() / 2\n",
        "  cache = {}\n",
        "  \n",
        "  curr_cost = transport_network.calculate_cost()\n",
        "  if verbose:\n",
        "    print(f\"Step 0: The initial cost is {curr_cost}\")\n",
        "\n",
        "  # We decrease incrementally the current road length\n",
        "  while curr_road_length > max_road_length:\n",
        "    step_count += 1\n",
        "    curr_worst_road = None\n",
        "\n",
        "    curr_worst_cost_per_length = np.inf\n",
        "    curr_best_cost = np.inf\n",
        "\n",
        "    for i in range(transport_network.num_city):\n",
        "      for j in range(i):\n",
        "\n",
        "        if not transport_network.roads[i, j]:\n",
        "          continue\n",
        "\n",
        "        transport_network.remove_road(i, j)\n",
        "        new_cost = transport_network.calculate_cost()\n",
        "\n",
        "        cost_per_length = (new_cost - curr_cost) / transport_network.distance_matrix[i, j]\n",
        "        \n",
        "        if cost_per_length < curr_worst_cost_per_length:\n",
        "          curr_worst_cost_per_length, curr_worst_road = cost_per_length, (i, j)\n",
        "          curr_best_cost = new_cost\n",
        "\n",
        "        transport_network.add_road(i, j)\n",
        "    \n",
        "    if curr_worst_road is None:\n",
        "      print(f\"Step {step_count}: The current cost is {curr_best_cost}\",\n",
        "            f\"Road length {curr_road_length}/{max_road_length}\")\n",
        "      print(f\"The algorithm finished at step {step_count}\")\n",
        "      print(f\"The cost obtained is {curr_cost}\")\n",
        "      break\n",
        "    \n",
        "    curr_cost = curr_best_cost\n",
        "    i, j = curr_worst_road\n",
        "    transport_network.remove_road(i, j)\n",
        "    curr_road_length -= transport_network.distance_matrix[i, j]\n",
        "    if verbose and step_count%report_every==0:\n",
        "      print(f\"Step {step_count}: The current cost is {curr_best_cost}\",\n",
        "            f\"Road length {curr_road_length}/{max_road_length}\")\n",
        "    \n",
        "  cache[\"cost\"] = curr_cost"
      ]
    },
    {
      "cell_type": "markdown",
      "metadata": {
        "id": "RphTkPUcH_u-"
      },
      "source": []
    },
    {
      "cell_type": "code",
      "execution_count": 108,
      "metadata": {
        "colab": {
          "base_uri": "https://localhost:8080/",
          "height": 758
        },
        "id": "qYfwfxoyK-Yk",
        "outputId": "1489ca33-f8d9-4b5b-acce-e2a37199becf"
      },
      "outputs": [
        {
          "name": "stdout",
          "output_type": "stream",
          "text": [
            "(1, 30)\n",
            "Step 0: The initial cost is 359787746.21525\n",
            "Step 50: The current cost is 359788783.42262423 Road length 16860.175920769598/800\n",
            "Step 100: The current cost is 359799393.7422343 Road length 13788.969431494419/800\n",
            "Step 150: The current cost is 359832868.3901552 Road length 11150.34273031222/800\n",
            "Step 200: The current cost is 359956214.1267147 Road length 8402.084759525476/800\n",
            "Step 250: The current cost is 360328700.90595293 Road length 5996.445869403865/800\n",
            "Step 300: The current cost is 361429507.1192944 Road length 3832.991973729272/800\n",
            "Step 350: The current cost is 365800997.70097685 Road length 1909.4596777381607/800\n"
          ]
        }
      ],
      "source": [
        "transport_network_test_backward_removal = transport_network_test.generate_copy()\n",
        "backward_removal(transport_network_test_backward_removal, max_road_length=800, report_every=50)"
      ]
    },
    {
      "cell_type": "markdown",
      "metadata": {},
      "source": [
        "Let's see the results:"
      ]
    },
    {
      "cell_type": "code",
      "execution_count": 109,
      "metadata": {},
      "outputs": [
        {
          "name": "stdout",
          "output_type": "stream",
          "text": [
            "The new cost of the backward removal algorithm is 391957296.6915276\n"
          ]
        },
        {
          "data": {
            "image/png": "[encoded data removed]",
            "text/plain": [
              "<Figure size 432x288 with 1 Axes>"
            ]
          },
          "metadata": {
            "needs_background": "light"
          },
          "output_type": "display_data"
        }
      ],
      "source": [
        "print(f\"The new cost of the backward removal algorithm is {transport_network_test_backward_removal.calculate_cost()}\")\n",
        "transport_network_test_backward_removal.plot_map()"
      ]
    },
    {
      "cell_type": "code",
      "execution_count": null,
      "metadata": {
        "id": "EZY9KQwxPe4n"
      },
      "outputs": [],
      "source": [
        "def genetic_algorithm(city_arr, max_road_length, sigma=10, verbose=True, pond_size=5):\n",
        "  V = city_arr.shape[1]\n",
        "  road_matrix = np.ones((V, V), dtype=bool)\n",
        "  pop_flow = get_pop_flow(city_arr)\n",
        "  step_count = 0\n",
        "  distance = distance_matrix(city_arr)\n",
        "  curr_road_length = distance.sum() / 2\n",
        "  cache = {}\n",
        "\n",
        "  def add_road(i, j):\n",
        "    road_matrix[i, j] = True\n",
        "    road_matrix[j, i] = True\n",
        "  \n",
        "  def remove_road(i, j):\n",
        "    road_matrix[i, j] = False\n",
        "    road_matrix[j, i] = False\n",
        "  \n",
        "  delta_map = floyd_warshall(city_arr, road_matrix, sigma=sigma)\n",
        "  curr_cost = cost(city_arr, delta_map, pop_flow=pop_flow)"
      ]
    },
    {
      "cell_type": "markdown",
      "metadata": {
        "id": "zrm-ONdAsxyb"
      },
      "source": []
    },
    {
      "cell_type": "markdown",
      "metadata": {
        "id": "ors4dKfLCW2H"
      },
      "source": [
        "ideas to try:\n",
        "\n",
        "different sigma for training and for testing.\n",
        "\n",
        "increase in cost / length\n",
        "\n",
        "TODO:\n",
        "complexity analysis"
      ]
    }
  ],
  "metadata": {
    "colab": {
      "collapsed_sections": [],
      "name": "Simulation informatique et réseaux de transport.ipynb",
      "provenance": []
    },
    "kernelspec": {
      "display_name": "Python 3",
      "name": "python3"
    },
    "language_info": {
      "codemirror_mode": {
        "name": "ipython",
        "version": 3
      },
      "file_extension": ".py",
      "mimetype": "text/x-python",
      "name": "python",
      "nbconvert_exporter": "python",
      "pygments_lexer": "ipython3",
      "version": "3.9.7"
    }
  },
  "nbformat": 4,
  "nbformat_minor": 0
}
